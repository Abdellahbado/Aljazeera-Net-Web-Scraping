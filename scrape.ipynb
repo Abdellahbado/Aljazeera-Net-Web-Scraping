{
 "cells": [
  {
   "cell_type": "code",
   "execution_count": 1,
   "metadata": {},
   "outputs": [],
   "source": [
    "import requests\n",
    "from bs4 import BeautifulSoup\n",
    "import urllib.parse\n",
    "from selenium import webdriver\n",
    "from selenium.webdriver.chrome.options import Options\n",
    "from selenium.webdriver.chrome.service import Service\n",
    "from selenium.webdriver.common.by import By\n",
    "from selenium.webdriver.support.ui import WebDriverWait\n",
    "from selenium.webdriver.support import expected_conditions as EC\n",
    "from webdriver_manager.chrome import ChromeDriverManager\n",
    "import time"
   ]
  },
  {
   "cell_type": "code",
   "execution_count": 2,
   "metadata": {},
   "outputs": [],
   "source": [
    "url = 'https://www.aljazeera.net/ebusiness/'\n",
    "\n",
    "response = requests.get(url)\n",
    "\n",
    "response = response.content"
   ]
  },
  {
   "cell_type": "code",
   "execution_count": 3,
   "metadata": {},
   "outputs": [],
   "source": [
    "soup = BeautifulSoup(response, 'html.parser')"
   ]
  },
  {
   "cell_type": "markdown",
   "metadata": {},
   "source": [
    "### Get all articles in the website"
   ]
  },
  {
   "cell_type": "code",
   "execution_count": 4,
   "metadata": {},
   "outputs": [],
   "source": [
    "all_articles = soup.find_all('article')"
   ]
  },
  {
   "cell_type": "markdown",
   "metadata": {},
   "source": [
    "### Get only articles within a specific section"
   ]
  },
  {
   "cell_type": "code",
   "execution_count": 5,
   "metadata": {},
   "outputs": [
    {
     "data": {
      "text/plain": [
       "<section aria-label=\"تدفق المحتوى\" id=\"news-feed-container\" tabindex=\"-1\"><h2 class=\"screen-reader-text\">تدفق المحتوى</h2><article class=\"gc u-clickable-card gc--type-post gc--list gc--with-image\"><div class=\"gc__image-placeholder\"></div><div class=\"gc__content\"><div class=\"gc__header-wrap\"><div class=\"gc__header-meta u-clickable-card__exclude\"><div class=\"post-label\"><span class=\"post-label__text\">مراسلو الجزيرة نت</span></div></div><h3 class=\"gc__title\"><a class=\"u-clickable-card__link\" href=\"/ebusiness/2024/9/3/%d9%83%d9%8a%d9%81-%d8%aa%d8%aa%d8%b9%d8%a7%d9%85%d9%84-%d8%a5%d9%8a%d8%b1%d8%a7%d9%86-%d9%85%d8%b9-%d8%aa%d9%87%d8%b1%d9%8a%d8%a8-%d8%a7%d9%84%d9%88%d9%82%d9%88%d8%af-%d9%81%d9%8a-2\"><span>كيف تتعامل إيران مع تهريب الوقود في الخليج العربي؟</span></a></h3></div><div class=\"gc__body-wrap\"><div class=\"gc__excerpt\"><p>تعاني إيران الغنية بمعادن الطاقة من تهريب الوقود إلى خارج حدودها. وتضبط قواتها البحرية بشكل مستمر عمليات تهريب الوقود، لا سيما الديزل، في مياه الخليج العربي التي تعد أهم بوابة لإيران على العالم.</p></div></div><footer class=\"gc__footer\"><div class=\"gc__meta\"><div class=\"gc__date gc__date--published\"><div class=\"gc__date__date\"><div class=\"date-simple css-1yjq2zp\"><span class=\"screen-reader-text\">Published On 3/9/2024</span><span aria-hidden=\"true\">3/9/2024</span></div></div></div></div></footer></div><div class=\"gc__image-wrap\"><div aria-hidden=\"false\" class=\"article-card__image-wrap article-card__featured-image\" tabindex=\"-1\"><div class=\"responsive-image\"><img alt=\"إيران توقف سفينة أجنبية بالمياه الخليجية بتهمة تهريب الوقود\" class=\"article-card__image gc__image\" loading=\"lazy\" sizes=\"(max-width: 140px) 140px, (max-width: 170px) 170px, (max-width: 270px) 270px, (max-width: 375px) 375px, (max-width: 570px) 570px, (max-width: 770px) 770px, 770px\" src=\"/wp-content/uploads/2019/08/2b2ba0d2-32f3-44ae-b17a-ed88725a595d.jpeg?resize=770%2C513&amp;quality=80\" srcset=\"/wp-content/uploads/2019/08/2b2ba0d2-32f3-44ae-b17a-ed88725a595d.jpeg?resize=140%2C93&amp;quality=80 140w, /wp-content/uploads/2019/08/2b2ba0d2-32f3-44ae-b17a-ed88725a595d.jpeg?resize=170%2C113&amp;quality=80 170w, /wp-content/uploads/2019/08/2b2ba0d2-32f3-44ae-b17a-ed88725a595d.jpeg?resize=270%2C180&amp;quality=80 270w, /wp-content/uploads/2019/08/2b2ba0d2-32f3-44ae-b17a-ed88725a595d.jpeg?resize=375%2C250&amp;quality=80 375w, /wp-content/uploads/2019/08/2b2ba0d2-32f3-44ae-b17a-ed88725a595d.jpeg?resize=570%2C380&amp;quality=80 570w, /wp-content/uploads/2019/08/2b2ba0d2-32f3-44ae-b17a-ed88725a595d.jpeg?resize=770%2C513&amp;quality=80 770w\"/></div></div></div></article><article class=\"gc u-clickable-card gc--type-post gc--list gc--with-image\"><div class=\"gc__image-placeholder\"></div><div class=\"gc__content\"><div class=\"gc__header-wrap\"><div class=\"gc__header-meta u-clickable-card__exclude\"></div><h3 class=\"gc__title\"><a class=\"u-clickable-card__link\" href=\"/ebusiness/2024/9/3/%d8%a7%d9%84%d8%b3%d8%b9%d9%88%d8%af%d9%8a%d8%a9-%d8%aa%d8%b3%d8%aa%d9%87%d8%af%d9%81-%d9%88%d8%ac%d9%88%d8%af-525-%d8%b4%d8%b1%d9%83%d8%a9-%d9%81%d9%8a%d9%86%d8%aa%d9%83\"><span>السعودية تستهدف وجود 525 شركة \"فينتك\" تقنية مالية بحلول 2030</span></a></h3></div><div class=\"gc__body-wrap\"><div class=\"gc__excerpt\"><p>كشف وزير المالية السعودي محمد الجدعان عن سعي بلاده لزيادة عدد الشركات العاملة في مجال التكنولوجيا المالية “فينتك”، لتصل إلى 525 شركة بحلول 2030، وذلك خلال كلمته في مؤتمر “فيتنك 24” في الرياض اليوم.</p></div></div><footer class=\"gc__footer\"><div class=\"gc__meta\"><div class=\"gc__date gc__date--published\"><div class=\"gc__date__date\"><div class=\"date-simple css-1yjq2zp\"><span class=\"screen-reader-text\">Published On 3/9/2024</span><span aria-hidden=\"true\">3/9/2024</span></div></div></div></div></footer></div><div class=\"gc__image-wrap\"><div aria-hidden=\"false\" class=\"article-card__image-wrap article-card__featured-image\" tabindex=\"-1\"><div class=\"responsive-image\"><img alt=\"\" class=\"article-card__image gc__image\" loading=\"lazy\" sizes=\"(max-width: 140px) 140px, (max-width: 170px) 170px, (max-width: 270px) 270px, (max-width: 375px) 375px, (max-width: 570px) 570px, (max-width: 770px) 770px, 770px\" src=\"/wp-content/uploads/2023/10/32M72A9-highres-1-1698302019.jpg?resize=770%2C513&amp;quality=80\" srcset=\"/wp-content/uploads/2023/10/32M72A9-highres-1-1698302019.jpg?resize=140%2C93&amp;quality=80 140w, /wp-content/uploads/2023/10/32M72A9-highres-1-1698302019.jpg?resize=170%2C113&amp;quality=80 170w, /wp-content/uploads/2023/10/32M72A9-highres-1-1698302019.jpg?resize=270%2C180&amp;quality=80 270w, /wp-content/uploads/2023/10/32M72A9-highres-1-1698302019.jpg?resize=375%2C250&amp;quality=80 375w, /wp-content/uploads/2023/10/32M72A9-highres-1-1698302019.jpg?resize=570%2C380&amp;quality=80 570w, /wp-content/uploads/2023/10/32M72A9-highres-1-1698302019.jpg?resize=770%2C513&amp;quality=80 770w\"/></div></div></div></article><article class=\"gc u-clickable-card gc--type-post gc--list gc--with-image\"><div class=\"gc__image-placeholder\"></div><div class=\"gc__content\"><div class=\"gc__header-wrap\"><div class=\"gc__header-meta u-clickable-card__exclude\"></div><h3 class=\"gc__title\"><a class=\"u-clickable-card__link\" href=\"/ebusiness/2024/9/3/%d8%a8%d9%84%d9%88%d9%85%d8%a8%d9%8a%d8%b1%d8%ba-%d8%b1%d9%83%d9%88%d8%af-%d8%a7%d9%84%d8%a7%d9%82%d8%aa%d8%b5%d8%a7%d8%af-%d8%a7%d9%84%d8%a3%d9%84%d9%85%d8%a7%d9%86%d9%8a-%d8%b3%d9%85%d8%ad\"><span>بلومبيرغ: صعود الشعبويين قد يؤثر في اقتصاد أوروبا ككل</span></a></h3></div><div class=\"gc__body-wrap\"><div class=\"gc__excerpt\"><p>قال مقال رأي في بلومبيرغ إن تراجع الاقتصاد في ألمانيا يفاقم الخلافات الداخلية بشأن الهجرة ودعم أوكرانيا، ويهدد شرعية الحكومة، مما يخلق بيئة مثالية لنمو الأحزاب المتطرفة.</p></div></div><footer class=\"gc__footer\"><div class=\"gc__meta\"><div class=\"gc__date gc__date--published\"><div class=\"gc__date__date\"><div class=\"date-simple css-1yjq2zp\"><span class=\"screen-reader-text\">Published On 3/9/2024</span><span aria-hidden=\"true\">3/9/2024</span></div></div></div></div></footer></div><div class=\"gc__image-wrap\"><div aria-hidden=\"false\" class=\"article-card__image-wrap article-card__featured-image\" tabindex=\"-1\"><div class=\"responsive-image\"><img alt='Alternative for Germany (AfD) party top candidate Joerg Urban and \"Buendnis Sahra Wagenknecht\" (BSW) party top candidate Sabine Zimmermann attend a TV interview after first exit polls in the Saxony state election, in Dresden, Germany, September 1, 2024. REUTERS/Lisi Niesner' class=\"article-card__image gc__image\" loading=\"lazy\" sizes=\"(max-width: 140px) 140px, (max-width: 170px) 170px, (max-width: 270px) 270px, (max-width: 375px) 375px, (max-width: 570px) 570px, (max-width: 770px) 770px, 770px\" src=\"/wp-content/uploads/2024/09/بب-5-1725258437.jpg?resize=770%2C513&amp;quality=80\" srcset=\"/wp-content/uploads/2024/09/بب-5-1725258437.jpg?resize=140%2C93&amp;quality=80 140w, /wp-content/uploads/2024/09/بب-5-1725258437.jpg?resize=170%2C113&amp;quality=80 170w, /wp-content/uploads/2024/09/بب-5-1725258437.jpg?resize=270%2C180&amp;quality=80 270w, /wp-content/uploads/2024/09/بب-5-1725258437.jpg?resize=375%2C250&amp;quality=80 375w, /wp-content/uploads/2024/09/بب-5-1725258437.jpg?resize=570%2C380&amp;quality=80 570w, /wp-content/uploads/2024/09/بب-5-1725258437.jpg?resize=770%2C513&amp;quality=80 770w\"/></div></div></div></article><article class=\"gc u-clickable-card gc--type-post gc--list gc--with-image\"><div class=\"gc__image-placeholder\"></div><div class=\"gc__content\"><div class=\"gc__header-wrap\"><div class=\"gc__header-meta u-clickable-card__exclude\"></div><h3 class=\"gc__title\"><a class=\"u-clickable-card__link\" href=\"/ebusiness/2024/9/3/3-%d8%a3%d9%86%d9%88%d8%a7%d8%b9-%d8%ac%d8%af%d9%8a%d8%af%d8%a9-%d9%85%d9%86-%d9%85%d8%b3%d8%aa%d9%87%d9%84%d9%83%d9%8a-%d8%a7%d9%84%d8%aa%d9%83%d9%86%d9%88%d9%84%d9%88%d8%ac%d9%8a%d8%a7\"><span>3 أنواع جديدة من مستهلكي التكنولوجيا المالية.. هل أنت منهم؟</span></a></h3></div><div class=\"gc__body-wrap\"><div class=\"gc__excerpt\"><p>يعتبر رواد التكنولوجيا المالية مجموعة ثرية مقارنة بالمستهلكين الآخرين، حيث إن إنفاقهم يميل إلى الترف أكثر من الأساسيات.</p></div></div><footer class=\"gc__footer\"><div class=\"gc__meta\"><div class=\"gc__date gc__date--published\"><div class=\"gc__date__date\"><div class=\"date-simple css-1yjq2zp\"><span class=\"screen-reader-text\">Published On 3/9/2024</span><span aria-hidden=\"true\">3/9/2024</span></div></div></div></div></footer></div><div class=\"gc__image-wrap\"><div aria-hidden=\"false\" class=\"article-card__image-wrap article-card__featured-image\" tabindex=\"-1\"><div class=\"responsive-image\"><img alt=\"BRISTOL, ENGLAND - NOVEMBER 03: In this photo illustration credit debit cards are seen on November 3, 2017 in Bristol, England. The Bank of England raised interest rates from a historic low for the first time in ten years this week raising costs of lending and concerns for householder debt. (Photo by Matt Cardy/Getty Images)\" class=\"article-card__image gc__image\" loading=\"lazy\" sizes=\"(max-width: 140px) 140px, (max-width: 170px) 170px, (max-width: 270px) 270px, (max-width: 375px) 375px, (max-width: 570px) 570px, (max-width: 770px) 770px, 770px\" src=\"/wp-content/uploads/2018/12/98b483c4-e304-4e36-91ed-5832d0570eae.jpeg?resize=770%2C513&amp;quality=80\" srcset=\"/wp-content/uploads/2018/12/98b483c4-e304-4e36-91ed-5832d0570eae.jpeg?resize=140%2C93&amp;quality=80 140w, /wp-content/uploads/2018/12/98b483c4-e304-4e36-91ed-5832d0570eae.jpeg?resize=170%2C113&amp;quality=80 170w, /wp-content/uploads/2018/12/98b483c4-e304-4e36-91ed-5832d0570eae.jpeg?resize=270%2C180&amp;quality=80 270w, /wp-content/uploads/2018/12/98b483c4-e304-4e36-91ed-5832d0570eae.jpeg?resize=375%2C250&amp;quality=80 375w, /wp-content/uploads/2018/12/98b483c4-e304-4e36-91ed-5832d0570eae.jpeg?resize=570%2C380&amp;quality=80 570w, /wp-content/uploads/2018/12/98b483c4-e304-4e36-91ed-5832d0570eae.jpeg?resize=770%2C513&amp;quality=80 770w\"/></div></div></div></article><article class=\"gc u-clickable-card gc--type-post gc--list gc--with-image\"><div class=\"gc__image-placeholder\"></div><div class=\"gc__content\"><div class=\"gc__header-wrap\"><div class=\"gc__header-meta u-clickable-card__exclude\"></div><h3 class=\"gc__title\"><a class=\"u-clickable-card__link\" href=\"/news/2024/9/3/%d8%b9%d8%a7%d8%ac%d9%84-%d8%a7%d9%84%d8%b4%d8%b1%d9%83%d8%a9-%d8%a7%d9%84%d8%b3%d8%b9%d9%88%d8%af%d9%8a%d8%a9-%d9%84%d9%84%d9%86%d9%82%d9%84-%d8%a7%d9%84%d8%a8%d8%ad%d8%b1%d9%8a\"><span>شركة سعودية تنفي استهداف ناقلتها أمجاد في البحر الأحمر</span></a></h3></div><div class=\"gc__body-wrap\"><div class=\"gc__excerpt\"><p>قالت الشركة السعودية للنقل البحري إن الناقلة أمجاد المملوكة لها كانت تبحر في البحر الأحمر أمس الاثنين بالقرب من ناقلة أخرى تعرضت لهجوم لكنها لم تكن مستهدفة ولم تلحق بها أي أضرار أو إصابات.</p></div></div><footer class=\"gc__footer\"><div class=\"gc__meta\"><div class=\"gc__date gc__date--published\"><div class=\"gc__date__date\"><div class=\"date-simple css-1yjq2zp\"><span class=\"screen-reader-text\">Published On 3/9/2024</span><span aria-hidden=\"true\">3/9/2024</span></div></div></div></div></footer></div><div class=\"gc__image-wrap\"><div aria-hidden=\"false\" class=\"article-card__image-wrap article-card__featured-image\" tabindex=\"-1\"><div class=\"responsive-image\"><img alt=\"\" class=\"article-card__image gc__image\" loading=\"lazy\" sizes=\"(max-width: 140px) 140px, (max-width: 170px) 170px, (max-width: 270px) 270px, (max-width: 375px) 375px, (max-width: 570px) 570px, (max-width: 770px) 770px, 770px\" src=\"/wp-content/uploads/2024/09/RC2XA8ABFK46-1725318199.jpg?resize=770%2C513&amp;quality=80\" srcset=\"/wp-content/uploads/2024/09/RC2XA8ABFK46-1725318199.jpg?resize=140%2C93&amp;quality=80 140w, /wp-content/uploads/2024/09/RC2XA8ABFK46-1725318199.jpg?resize=170%2C113&amp;quality=80 170w, /wp-content/uploads/2024/09/RC2XA8ABFK46-1725318199.jpg?resize=270%2C180&amp;quality=80 270w, /wp-content/uploads/2024/09/RC2XA8ABFK46-1725318199.jpg?resize=375%2C250&amp;quality=80 375w, /wp-content/uploads/2024/09/RC2XA8ABFK46-1725318199.jpg?resize=570%2C380&amp;quality=80 570w, /wp-content/uploads/2024/09/RC2XA8ABFK46-1725318199.jpg?resize=770%2C513&amp;quality=80 770w\"/></div></div></div></article><article class=\"gc u-clickable-card gc--type-post gc--list gc--with-image\"><div class=\"gc__image-placeholder\"></div><div class=\"gc__content\"><div class=\"gc__header-wrap\"><div class=\"gc__header-meta u-clickable-card__exclude\"></div><h3 class=\"gc__title\"><a class=\"u-clickable-card__link\" href=\"/ebusiness/2024/9/3/87-%d9%85%d9%86-%d9%83%d9%87%d8%b1%d8%a8%d8%a7%d8%a1-%d9%81%d9%84%d8%b3%d8%b7%d9%8a%d9%86-%d9%85%d8%b5%d8%af%d8%b1%d9%87%d8%a7-%d8%a5%d8%b3%d8%b1%d8%a7%d8%a6%d9%8a%d9%84-%d9%88%d9%85%d8%b3%d8%a7%d8%b9\"><span>%87 من كهرباء فلسطين مصدرها إسرائيل ومساع حكومية لتقليصها</span></a></h3></div><div class=\"gc__body-wrap\"><div class=\"gc__excerpt\"><p>ذكرت دراسة متخصصة أن اعتماد فلسطين بشكل شبه كامل (87%) على الكهرباء المستوردة من شركة الكهرباء الإسرائيلية، “يعزز التبعية الاقتصادية ويثقل كاهل الحكومة الفلسطينية بسبب تحكم الشركة الإسرائيلية”</p></div></div><footer class=\"gc__footer\"><div class=\"gc__meta\"><div class=\"gc__date gc__date--published\"><div class=\"gc__date__date\"><div class=\"date-simple css-1yjq2zp\"><span class=\"screen-reader-text\">Published On 3/9/2024</span><span aria-hidden=\"true\">3/9/2024</span></div></div></div></div></footer></div><div class=\"gc__image-wrap\"><div aria-hidden=\"false\" class=\"article-card__image-wrap article-card__featured-image\" tabindex=\"-1\"><div class=\"responsive-image\"><img alt=\"الاحتلال يعد المزود للفلسطينيين بالكهرباء لكنه في الوقت ذاته يتحكم بالمواطنين ويقطعها عنهم متى شاء- الجزيرة نت18\" class=\"article-card__image gc__image\" loading=\"lazy\" sizes=\"(max-width: 140px) 140px, (max-width: 170px) 170px, (max-width: 270px) 270px, (max-width: 375px) 375px, (max-width: 570px) 570px, (max-width: 770px) 770px, 770px\" src=\"/wp-content/uploads/2013/11/819a9368-49ee-4d88-9639-3ff0aa13df21.jpeg?resize=686%2C513&amp;quality=80\" srcset=\"/wp-content/uploads/2013/11/819a9368-49ee-4d88-9639-3ff0aa13df21.jpeg?resize=140%2C93&amp;quality=80 140w, /wp-content/uploads/2013/11/819a9368-49ee-4d88-9639-3ff0aa13df21.jpeg?resize=170%2C113&amp;quality=80 170w, /wp-content/uploads/2013/11/819a9368-49ee-4d88-9639-3ff0aa13df21.jpeg?resize=270%2C180&amp;quality=80 270w, /wp-content/uploads/2013/11/819a9368-49ee-4d88-9639-3ff0aa13df21.jpeg?resize=375%2C250&amp;quality=80 375w, /wp-content/uploads/2013/11/819a9368-49ee-4d88-9639-3ff0aa13df21.jpeg?resize=570%2C380&amp;quality=80 570w, /wp-content/uploads/2013/11/819a9368-49ee-4d88-9639-3ff0aa13df21.jpeg?resize=686%2C513&amp;quality=80 770w\"/></div></div></div></article><article class=\"gc u-clickable-card gc--type-post gc--list gc--with-image\"><div class=\"gc__image-placeholder\"></div><div class=\"gc__content\"><div class=\"gc__header-wrap\"><div class=\"gc__header-meta u-clickable-card__exclude\"></div><h3 class=\"gc__title\"><a class=\"u-clickable-card__link\" href=\"/ebusiness/2024/9/3/%d8%a7%d9%84%d8%aa%d8%b6%d8%ae%d9%85-%d9%88%d9%88%d9%87%d9%85-%d8%ae%d9%81%d8%b6-%d8%a7%d9%84%d8%a8%d8%b7%d8%a7%d9%84%d8%a9-%d9%8a%d8%b1%d8%a8%d9%83%d8%a7%d9%86-%d8%a7%d9%82%d8%aa%d8%b5%d8%a7%d8%af\"><span>التضخم ووهم خفض البطالة يربكان اقتصاد إسرائيل</span></a></h3></div><div class=\"gc__body-wrap\"><div class=\"gc__excerpt\"><p>ارتفعت أسعار المساكن في إسرائيل، وسط تراجع المعروض بسبب غياب العمالة الفلسطينية، في حين سجلت أسعار الخضار والفواكه زيادات متسارعة، بفعل غياب العمالة التايلاندية، إلى جانب أزمة البحر الأحمر.</p></div></div><footer class=\"gc__footer\"><div class=\"gc__meta\"><div class=\"gc__date gc__date--published\"><div class=\"gc__date__date\"><div class=\"date-simple css-1yjq2zp\"><span class=\"screen-reader-text\">Published On 3/9/2024</span><span aria-hidden=\"true\">3/9/2024</span></div></div></div></div></footer></div><div class=\"gc__image-wrap\"><div aria-hidden=\"false\" class=\"article-card__image-wrap article-card__featured-image\" tabindex=\"-1\"><div class=\"responsive-image\"><img alt=\"\" class=\"article-card__image gc__image\" loading=\"lazy\" sizes=\"(max-width: 140px) 140px, (max-width: 170px) 170px, (max-width: 270px) 270px, (max-width: 375px) 375px, (max-width: 570px) 570px, (max-width: 770px) 770px, 770px\" src=\"/wp-content/uploads/2024/09/اقتصاد-1725270559.png?resize=770%2C513&amp;quality=80\" srcset=\"/wp-content/uploads/2024/09/اقتصاد-1725270559.png?resize=140%2C93&amp;quality=80 140w, /wp-content/uploads/2024/09/اقتصاد-1725270559.png?resize=170%2C113&amp;quality=80 170w, /wp-content/uploads/2024/09/اقتصاد-1725270559.png?resize=270%2C180&amp;quality=80 270w, /wp-content/uploads/2024/09/اقتصاد-1725270559.png?resize=375%2C250&amp;quality=80 375w, /wp-content/uploads/2024/09/اقتصاد-1725270559.png?resize=570%2C380&amp;quality=80 570w, /wp-content/uploads/2024/09/اقتصاد-1725270559.png?resize=770%2C513&amp;quality=80 770w\"/></div></div></div></article><article class=\"gc u-clickable-card gc--type-post gc--list gc--with-image\"><div class=\"gc__image-placeholder\"></div><div class=\"gc__content\"><div class=\"gc__header-wrap\"><div class=\"gc__header-meta u-clickable-card__exclude\"></div><h3 class=\"gc__title\"><a class=\"u-clickable-card__link\" href=\"/ebusiness/2024/9/2/%d9%85%d8%b5%d8%b1-%d8%aa%d9%88%d9%82%d8%b9%d8%a7%d8%aa-%d8%a8%d8%aa%d8%ab%d8%a8%d9%8a%d8%aa-%d8%a3%d8%b3%d8%b9%d8%a7%d8%b1-%d8%a7%d9%84%d9%81%d8%a7%d8%a6%d8%af%d8%a9-%d9%85%d8%b9\"><span>مصر.. توقعات بتثبيت أسعار الفائدة مع تراجع التضخم</span></a></h3></div><div class=\"gc__body-wrap\"><div class=\"gc__excerpt\"><p>من المتوقع أن يُبقي البنك المركزي المصري أسعار الفائدة دون تغيير في اجتماع لجنة السياسة النقدية يوم الخميس المقبل، وذلك في ظل استمرار تراجع معدلات التضخم، وفقا لاستطلاع أجرته وكالة رويترز.</p></div></div><footer class=\"gc__footer\"><div class=\"gc__meta\"><div class=\"gc__date gc__date--published\"><div class=\"gc__date__date\"><div class=\"date-simple css-1yjq2zp\"><span class=\"screen-reader-text\">Published On 2/9/2024</span><span aria-hidden=\"true\">2/9/2024</span></div></div></div></div></footer></div><div class=\"gc__image-wrap\"><div aria-hidden=\"false\" class=\"article-card__image-wrap article-card__featured-image\" tabindex=\"-1\"><div class=\"responsive-image\"><img alt=\"ياسر سليم - حث البنك المركزي المصارف الحكومية على الاقتراض من مصارف أجنبية سداً للعجز الدولاري. (تصوير خاص لواجهة البنك المركزي ـ - 2018 يورث 2019 ديوناً ثقيلة تضاعف متاعب المصريين\" class=\"article-card__image gc__image\" loading=\"lazy\" sizes=\"(max-width: 140px) 140px, (max-width: 170px) 170px, (max-width: 270px) 270px, (max-width: 375px) 375px, (max-width: 570px) 570px, (max-width: 770px) 770px, 770px\" src=\"/wp-content/uploads/2019/01/7e045ec6-db1a-49ad-aa86-51378b4f2540.jpeg?resize=770%2C513&amp;quality=80\" srcset=\"/wp-content/uploads/2019/01/7e045ec6-db1a-49ad-aa86-51378b4f2540.jpeg?resize=140%2C93&amp;quality=80 140w, /wp-content/uploads/2019/01/7e045ec6-db1a-49ad-aa86-51378b4f2540.jpeg?resize=170%2C113&amp;quality=80 170w, /wp-content/uploads/2019/01/7e045ec6-db1a-49ad-aa86-51378b4f2540.jpeg?resize=270%2C180&amp;quality=80 270w, /wp-content/uploads/2019/01/7e045ec6-db1a-49ad-aa86-51378b4f2540.jpeg?resize=375%2C250&amp;quality=80 375w, /wp-content/uploads/2019/01/7e045ec6-db1a-49ad-aa86-51378b4f2540.jpeg?resize=570%2C380&amp;quality=80 570w, /wp-content/uploads/2019/01/7e045ec6-db1a-49ad-aa86-51378b4f2540.jpeg?resize=770%2C513&amp;quality=80 770w\"/></div></div></div></article><article class=\"gc u-clickable-card gc--type-post gc--list gc--with-image\"><div class=\"gc__image-placeholder\"></div><div class=\"gc__content\"><div class=\"gc__header-wrap\"><div class=\"gc__header-meta u-clickable-card__exclude\"></div><h3 class=\"gc__title\"><a class=\"u-clickable-card__link\" href=\"/ebusiness/2024/9/2/%d8%aa%d9%88%d9%82%d8%b9%d8%a7%d8%aa-%d8%a8%d8%a3%d9%86-%d8%aa%d8%ae%d9%81%d8%b6-%d8%a7%d9%84%d8%b3%d8%b9%d9%88%d8%af%d9%8a%d8%a9-%d8%a3%d8%b3%d8%b9%d8%a7%d8%b1-%d8%a7%d9%84%d9%86%d9%81%d8%b7\"><span>توقعات بأن تخفض السعودية أسعار النفط الخام لآسيا في أكتوبر</span></a></h3></div><div class=\"gc__body-wrap\"><div class=\"gc__excerpt\"><p>من المتوقع أن ينخفض سعر البيع الرسمي للخام العربي الخفيف الرئيسي لشهر أكتوبر/تشرين الأول بين 50 و70 سنتا للبرميل، ليقتفي أثر اتجاه مماثل لهوامش الأسعار لدبي الشهر الماضي.</p></div></div><footer class=\"gc__footer\"><div class=\"gc__meta\"><div class=\"gc__date gc__date--published\"><div class=\"gc__date__date\"><div class=\"date-simple css-1yjq2zp\"><span class=\"screen-reader-text\">Published On 2/9/2024</span><span aria-hidden=\"true\">2/9/2024</span></div></div></div></div></footer></div><div class=\"gc__image-wrap\"><div aria-hidden=\"false\" class=\"article-card__image-wrap article-card__featured-image\" tabindex=\"-1\"><div class=\"responsive-image\"><img alt=\"السعودية وروسيا.. حرب أسعار النفط\" class=\"article-card__image gc__image\" loading=\"lazy\" sizes=\"(max-width: 140px) 140px, (max-width: 170px) 170px, (max-width: 270px) 270px, (max-width: 375px) 375px, (max-width: 570px) 570px, (max-width: 770px) 770px, 770px\" src=\"/wp-content/uploads/2020/03/13599291-91a9-47df-9353-a18c78f85dbf.jpeg?resize=770%2C513&amp;quality=80\" srcset=\"/wp-content/uploads/2020/03/13599291-91a9-47df-9353-a18c78f85dbf.jpeg?resize=140%2C93&amp;quality=80 140w, /wp-content/uploads/2020/03/13599291-91a9-47df-9353-a18c78f85dbf.jpeg?resize=170%2C113&amp;quality=80 170w, /wp-content/uploads/2020/03/13599291-91a9-47df-9353-a18c78f85dbf.jpeg?resize=270%2C180&amp;quality=80 270w, /wp-content/uploads/2020/03/13599291-91a9-47df-9353-a18c78f85dbf.jpeg?resize=375%2C250&amp;quality=80 375w, /wp-content/uploads/2020/03/13599291-91a9-47df-9353-a18c78f85dbf.jpeg?resize=570%2C380&amp;quality=80 570w, /wp-content/uploads/2020/03/13599291-91a9-47df-9353-a18c78f85dbf.jpeg?resize=770%2C513&amp;quality=80 770w\"/></div></div></div></article><article class=\"gc u-clickable-card gc--type-post gc--list gc--with-image\"><div class=\"gc__image-placeholder\"></div><div class=\"gc__content\"><div class=\"gc__header-wrap\"><div class=\"gc__header-meta u-clickable-card__exclude\"></div><h3 class=\"gc__title\"><a class=\"u-clickable-card__link\" href=\"/ebusiness/2024/9/2/%d8%a8%d9%88%d8%aa%d8%a7%d8%b4-%d8%a7%d9%84%d8%aa%d8%b1%d9%83%d9%8a%d8%a9-%d9%88%d8%b4%d9%84-%d8%a7%d9%84%d8%a8%d8%b1%d9%8a%d8%b7%d8%a7%d9%86%d9%8a%d8%a9-%d8%aa%d9%88%d9%82%d8%b9%d8%a7%d9%86\"><span>بوتاش التركية وشل البريطانية توقعان اتفاقية غاز طويلة الأجل</span></a></h3></div><div class=\"gc__body-wrap\"><div class=\"gc__excerpt\"><p>أوضحت وزارة الطاقة التركية أن الوزير سيجتمع اليوم في أنقرة مع وائل صوان الرئيس التنفيذي لشركة شل، وسيلقي بيانا عقب الاجتماع، إضافة لتوقيع اتفاقية طويلة الأجل للغاز الطبيعي المسال بين شركتي بوتاش وشل.</p></div></div><footer class=\"gc__footer\"><div class=\"gc__meta\"><div class=\"gc__date gc__date--published\"><div class=\"gc__date__date\"><div class=\"date-simple css-1yjq2zp\"><span class=\"screen-reader-text\">Published On 2/9/2024</span><span aria-hidden=\"true\">2/9/2024</span></div></div></div></div></footer></div><div class=\"gc__image-wrap\"><div aria-hidden=\"false\" class=\"article-card__image-wrap article-card__featured-image\" tabindex=\"-1\"><div class=\"responsive-image\"><img alt=\"كومبو علمين تركيا وبريطانيا\" class=\"article-card__image gc__image\" loading=\"lazy\" sizes=\"(max-width: 140px) 140px, (max-width: 170px) 170px, (max-width: 270px) 270px, (max-width: 375px) 375px, (max-width: 570px) 570px, (max-width: 770px) 770px, 770px\" src=\"/wp-content/uploads/2023/07/shutterstock_1473916970-1689667237.jpg?resize=770%2C513&amp;quality=80\" srcset=\"/wp-content/uploads/2023/07/shutterstock_1473916970-1689667237.jpg?resize=140%2C93&amp;quality=80 140w, /wp-content/uploads/2023/07/shutterstock_1473916970-1689667237.jpg?resize=170%2C113&amp;quality=80 170w, /wp-content/uploads/2023/07/shutterstock_1473916970-1689667237.jpg?resize=270%2C180&amp;quality=80 270w, /wp-content/uploads/2023/07/shutterstock_1473916970-1689667237.jpg?resize=375%2C250&amp;quality=80 375w, /wp-content/uploads/2023/07/shutterstock_1473916970-1689667237.jpg?resize=570%2C380&amp;quality=80 570w, /wp-content/uploads/2023/07/shutterstock_1473916970-1689667237.jpg?resize=770%2C513&amp;quality=80 770w\"/></div></div></div></article><button class=\"show-more-button big-margin\" data-testid=\"show-more-button\"><span class=\"screen-reader-text\">اضغط هنا لعرض المزيد من المحتوى</span><span aria-hidden=\"true\">اعرض المزيد</span></button></section>"
      ]
     },
     "execution_count": 5,
     "metadata": {},
     "output_type": "execute_result"
    }
   ],
   "source": [
    "section = soup.find('section', id='news-feed-container')\n",
    "section"
   ]
  },
  {
   "cell_type": "code",
   "execution_count": 6,
   "metadata": {},
   "outputs": [],
   "source": [
    "articles = section.find_all('article',class_='gc u-clickable-card gc--type-post gc--list gc--with-image')"
   ]
  },
  {
   "cell_type": "code",
   "execution_count": null,
   "metadata": {},
   "outputs": [],
   "source": []
  },
  {
   "cell_type": "code",
   "execution_count": 7,
   "metadata": {},
   "outputs": [],
   "source": [
    "def extract_article_details(article):\n",
    "    img = article.find('img')\n",
    "    \n",
    "    title = ''\n",
    "    url=''\n",
    "    title_tag = article.find('h3', class_='gc__title')\n",
    "    if title_tag:\n",
    "        span_tag = title_tag.find('span')\n",
    "        if span_tag:\n",
    "            title = span_tag.text\n",
    "        a_tag = title_tag.find('a')\n",
    "        if a_tag and 'href' in a_tag.attrs:\n",
    "            url = a_tag['href']\n",
    "            url = urllib.parse.urljoin(\"https://www.aljazeera.net/\", url)  # Optional: If the URL is relative, make it absolute\n",
    "            url = urllib.parse.unquote(url)  \n",
    "    \n",
    "    descr = ''\n",
    "    descr_tag = article.find('div', class_='gc__excerpt')\n",
    "    if descr_tag:\n",
    "        p_tag = descr_tag.find('p')\n",
    "        if p_tag:\n",
    "            descr = p_tag.text\n",
    "    \n",
    "    date = ''\n",
    "    footer_tag = article.find('footer')\n",
    "    if footer_tag:\n",
    "        span_tags = footer_tag.find_all('span')\n",
    "        if len(span_tags) > 1:\n",
    "            date = span_tags[1].text\n",
    "    \n",
    "\n",
    "    return img, title, descr, date, url\n",
    "\n"
   ]
  },
  {
   "cell_type": "code",
   "execution_count": 44,
   "metadata": {},
   "outputs": [
    {
     "name": "stdout",
     "output_type": "stream",
     "text": [
      "URL: https://www.aljazeera.net/ebusiness/2024/9/2/بوتاش-التركية-وشل-البريطانية-توقعان\n",
      "URL: https://www.aljazeera.net/ebusiness/2024/9/2/الدولار-يلامس-أعلى-مستوى-له-قبل-صدور\n",
      "URL: https://www.aljazeera.net/ebusiness/2024/9/2/محللون-نتنياهو-يخشى-الاحتجاجات-وقد\n",
      "URL: https://www.aljazeera.net/ebusiness/2024/9/2/النفط-يواصل-خسائره-واحتمالات-زيادة\n",
      "URL: https://www.aljazeera.net/politics/2024/9/2/صلتك-القطرية-توفر-أكثر-من-371-فرصة-عمل\n",
      "URL: https://www.aljazeera.net/ebusiness/2024/9/2/اللايقين-يستنزف-إسرائيل\n",
      "URL: https://www.aljazeera.net/tech/2024/9/1/مستثمرون-يتوقعون-صعودها-قيمة-أوبن\n",
      "URL: https://www.aljazeera.net/ebusiness/2024/9/1/تفاقم-أزمة-الكهرباء-في-إيران-إليك-حجم\n",
      "URL: https://www.aljazeera.net/ebusiness/2024/9/1/قطر-للطاقة-تضاعف-إنتجها-من-اليوريا\n",
      "URL: https://www.aljazeera.net/ebusiness/2024/9/1/العراق-سيعرض-10-مناطق-للتنقيب-عن-الغاز\n",
      "URL: https://www.aljazeera.net/ebusiness/2024/9/1/قطاع-الطاقة-الشمسية-في-الصين-يواجه\n",
      "URL: https://www.aljazeera.net/ebusiness/2024/9/1/3-حقول-نفط-ليبية-تتلقى-تعليمات-باستئناف\n",
      "URL: https://www.aljazeera.net/ebusiness/2024/9/1/بلدية-جنين-تقدر-تخريبات-جيش-الاحتلال\n",
      "URL: https://www.aljazeera.net/ebusiness/2024/8/31/الاقتصاد-الأميركي-يقاوم-الركود\n"
     ]
    }
   ],
   "source": [
    "for article in all_articles:\n",
    "    extract_article_details(article)"
   ]
  },
  {
   "cell_type": "markdown",
   "metadata": {},
   "source": [
    "### Function to get a specific number of articles"
   ]
  },
  {
   "cell_type": "code",
   "execution_count": 8,
   "metadata": {},
   "outputs": [],
   "source": [
    "def get_all_urls(base_url, max_articles=30):\n",
    "    chrome_options = Options()\n",
    "    chrome_options.add_argument(\"--headless\")\n",
    "    chrome_options.add_argument(\"--disable-gpu\")\n",
    "    chrome_options.add_argument(\"--no-sandbox\")\n",
    "    \n",
    "    driver = webdriver.Chrome(service=Service(ChromeDriverManager().install()), options=chrome_options)\n",
    "    \n",
    "    driver.get(base_url)\n",
    "    \n",
    "    all_articles = []\n",
    "\n",
    "    while len(all_articles) < max_articles:\n",
    "        try:\n",
    "            # Wait for the \"Show More\" button to be clickable\n",
    "            load_more_button = WebDriverWait(driver, 10).until(\n",
    "                EC.element_to_be_clickable((By.CSS_SELECTOR, \"button.show-more-button[data-testid='show-more-button']\"))\n",
    "            )\n",
    "            \n",
    "            # Scroll the button into view\n",
    "            driver.execute_script(\"arguments[0].scrollIntoView(true);\", load_more_button)\n",
    "            time.sleep(1)  # Give it a moment to scroll\n",
    "            \n",
    "            # Click the \"Show More\" button\n",
    "            load_more_button.click()\n",
    "            time.sleep(2)  # Wait for new content to load\n",
    "\n",
    "            # Parse the page after each click\n",
    "            soup = BeautifulSoup(driver.page_source, \"html.parser\")\n",
    "            articles = soup.find_all('article')\n",
    "            \n",
    "            # Process each article\n",
    "            for article in articles:\n",
    "                if article not in all_articles:\n",
    "                    all_articles.append(article)\n",
    "\n",
    "            # Stop if we have collected enough articles\n",
    "            if len(all_articles) >= max_articles:\n",
    "                break\n",
    "\n",
    "        except Exception as e:\n",
    "            print(\"Exception occurred while clicking 'Show More':\", e)\n",
    "            break\n",
    "\n",
    "    # Close the browser\n",
    "    driver.quit()\n",
    "\n",
    "    # Extract details from the collected articles\n",
    "    article_details = []\n",
    "    for article in all_articles[:max_articles]:\n",
    "        img, title, descr, date, url = extract_article_details(article)\n",
    "        article_details.append({\n",
    "            'title': title,\n",
    "            'description': descr,\n",
    "            'date': date,\n",
    "            'url': url\n",
    "        })\n",
    "\n",
    "    return article_details"
   ]
  },
  {
   "cell_type": "code",
   "execution_count": 9,
   "metadata": {},
   "outputs": [
    {
     "name": "stdout",
     "output_type": "stream",
     "text": [
      "Title: هل تسعى تركيا إلى \"بريكس\" لتبتعد عن الغرب؟\n",
      "Description: تسعى تركيا لتوسيع تحالفاتها العالمية وتطوير علاقاتها مع القوى الصاعدة عبر الانضمام إلى مجموعة “بريكس”، وهي مجموعة اقتصادية تضم بعضًا من أكبر الاقتصادات الناشئة في العالم. \n",
      "Date: 3/9/2024\n",
      "URL: https://www.aljazeera.net/ebusiness/2024/9/3/هل-تسعى-تركيا-إلى-بريكس-لتبتعد-عن\n",
      "---\n",
      "Title: إجراءات البنك المركزي العراقي الجديدة بين التحديات المحلية والعقوبات الأميركية\n",
      "Description: أعلن البنك المركزي العراقي نتائج زيارة وفده الذي ترأسه المحافظ علي العلاق إلى واشنطن، ولقائه مع ممثلي الخزانة الأميركية والبنك الاحتياطي الفدرالي، بالإضافة إلى لقاءات مع مجموعة من الشركات والمصارف.\n",
      "Date: 3/9/2024\n",
      "URL: https://www.aljazeera.net/ebusiness/2024/9/3/إجراءات-البنك-المركزي-العراقي\n",
      "---\n",
      "Title: ما الفوائد التي ستجنيها الجزائر بعد انضمامها إلى بنك البريكس؟\n",
      "Description: تمت الموافقة رسميا على انضمام الجزائر الى بنك البريكس، في ختام الاجتماع السنوي لمجلس محافظي البنك الجديد للتنمية، الذي انعقد في كيب تاون بجنوب أفريقيا وهي خطوة كبيرة في مسار الاندماج المالي العالمي.\n",
      "Date: 2/9/2024\n",
      "URL: https://www.aljazeera.net/ebusiness/2024/9/2/ما-الفوائد-التي-ستجنيها-الجزائر-بعد\n",
      "---\n",
      "Title: إضراب “الهستدروت”.. هل يجبر نتنياهو على قبول صفقة التبادل؟\n",
      "Description: أكد مراقبون أن الإضراب الشامل في إسرائيل وإمكانية تمديده يعكسان حالة الخلافات بشأن أهداف الحرب واستمرارها، وأن رئيس الوزراء بنيامين نتنياهو “قلق” من تزايد المظاهرات وتداعياتها على مستقبله السياسي.\n",
      "Date: 2/9/2024\n",
      "URL: https://www.aljazeera.net/ebusiness/2024/9/2/محللون-نتنياهو-يخشى-الاحتجاجات-وقد\n",
      "---\n",
      "Title: كيف تتعامل إيران مع تهريب الوقود في الخليج العربي؟\n",
      "Description: تعاني إيران الغنية بمعادن الطاقة من تهريب الوقود إلى خارج حدودها. وتضبط قواتها البحرية بشكل مستمر عمليات تهريب الوقود، لا سيما الديزل، في مياه الخليج العربي التي تعد أهم بوابة لإيران على العالم.\n",
      "Date: 3/9/2024\n",
      "URL: https://www.aljazeera.net/ebusiness/2024/9/3/كيف-تتعامل-إيران-مع-تهريب-الوقود-في-2\n",
      "---\n",
      "Title: السعودية تستهدف وجود 525 شركة \"فينتك\" تقنية مالية بحلول 2030\n",
      "Description: كشف وزير المالية السعودي محمد الجدعان عن سعي بلاده لزيادة عدد الشركات العاملة في مجال التكنولوجيا المالية “فينتك”، لتصل إلى 525 شركة بحلول 2030، وذلك خلال كلمته في مؤتمر “فيتنك 24” في الرياض اليوم.\n",
      "Date: 3/9/2024\n",
      "URL: https://www.aljazeera.net/ebusiness/2024/9/3/السعودية-تستهدف-وجود-525-شركة-فينتك\n",
      "---\n",
      "Title: بلومبيرغ: صعود الشعبويين قد يؤثر في اقتصاد أوروبا ككل\n",
      "Description: قال مقال رأي في بلومبيرغ إن تراجع الاقتصاد في ألمانيا يفاقم الخلافات الداخلية بشأن الهجرة ودعم أوكرانيا، ويهدد شرعية الحكومة، مما يخلق بيئة مثالية لنمو الأحزاب المتطرفة.\n",
      "Date: 3/9/2024\n",
      "URL: https://www.aljazeera.net/ebusiness/2024/9/3/بلومبيرغ-ركود-الاقتصاد-الألماني-سمح\n",
      "---\n",
      "Title: 3 أنواع جديدة من مستهلكي التكنولوجيا المالية.. هل أنت منهم؟\n",
      "Description: يعتبر رواد التكنولوجيا المالية مجموعة ثرية مقارنة بالمستهلكين الآخرين، حيث إن إنفاقهم يميل إلى الترف أكثر من الأساسيات.\n",
      "Date: 3/9/2024\n",
      "URL: https://www.aljazeera.net/ebusiness/2024/9/3/3-أنواع-جديدة-من-مستهلكي-التكنولوجيا\n",
      "---\n",
      "Title: شركة سعودية تنفي استهداف ناقلتها أمجاد في البحر الأحمر\n",
      "Description: قالت الشركة السعودية للنقل البحري إن الناقلة أمجاد المملوكة لها كانت تبحر في البحر الأحمر أمس الاثنين بالقرب من ناقلة أخرى تعرضت لهجوم لكنها لم تكن مستهدفة ولم تلحق بها أي أضرار أو إصابات.\n",
      "Date: 3/9/2024\n",
      "URL: https://www.aljazeera.net/news/2024/9/3/عاجل-الشركة-السعودية-للنقل-البحري\n",
      "---\n",
      "Title: %87 من كهرباء فلسطين مصدرها إسرائيل ومساع حكومية لتقليصها\n",
      "Description: ذكرت دراسة متخصصة أن اعتماد فلسطين بشكل شبه كامل (87%) على الكهرباء المستوردة من شركة الكهرباء الإسرائيلية، “يعزز التبعية الاقتصادية ويثقل كاهل الحكومة الفلسطينية بسبب تحكم الشركة الإسرائيلية”\n",
      "Date: 3/9/2024\n",
      "URL: https://www.aljazeera.net/ebusiness/2024/9/3/87-من-كهرباء-فلسطين-مصدرها-إسرائيل-ومساع\n",
      "---\n",
      "Title: التضخم ووهم خفض البطالة يربكان اقتصاد إسرائيل\n",
      "Description: ارتفعت أسعار المساكن في إسرائيل، وسط تراجع المعروض بسبب غياب العمالة الفلسطينية، في حين سجلت أسعار الخضار والفواكه زيادات متسارعة، بفعل غياب العمالة التايلاندية، إلى جانب أزمة البحر الأحمر.\n",
      "Date: 3/9/2024\n",
      "URL: https://www.aljazeera.net/ebusiness/2024/9/3/التضخم-ووهم-خفض-البطالة-يربكان-اقتصاد\n",
      "---\n",
      "Title: مصر.. توقعات بتثبيت أسعار الفائدة مع تراجع التضخم\n",
      "Description: من المتوقع أن يُبقي البنك المركزي المصري أسعار الفائدة دون تغيير في اجتماع لجنة السياسة النقدية يوم الخميس المقبل، وذلك في ظل استمرار تراجع معدلات التضخم، وفقا لاستطلاع أجرته وكالة رويترز.\n",
      "Date: 2/9/2024\n",
      "URL: https://www.aljazeera.net/ebusiness/2024/9/2/مصر-توقعات-بتثبيت-أسعار-الفائدة-مع\n",
      "---\n",
      "Title: توقعات بأن تخفض السعودية أسعار النفط الخام لآسيا في أكتوبر\n",
      "Description: من المتوقع أن ينخفض سعر البيع الرسمي للخام العربي الخفيف الرئيسي لشهر أكتوبر/تشرين الأول بين 50 و70 سنتا للبرميل، ليقتفي أثر اتجاه مماثل لهوامش الأسعار لدبي الشهر الماضي.\n",
      "Date: 2/9/2024\n",
      "URL: https://www.aljazeera.net/ebusiness/2024/9/2/توقعات-بأن-تخفض-السعودية-أسعار-النفط\n",
      "---\n",
      "Title: بوتاش التركية وشل البريطانية توقعان اتفاقية غاز طويلة الأجل\n",
      "Description: أوضحت وزارة الطاقة التركية أن الوزير سيجتمع اليوم في أنقرة مع وائل صوان الرئيس التنفيذي لشركة شل، وسيلقي بيانا عقب الاجتماع، إضافة لتوقيع اتفاقية طويلة الأجل للغاز الطبيعي المسال بين شركتي بوتاش وشل.\n",
      "Date: 2/9/2024\n",
      "URL: https://www.aljazeera.net/ebusiness/2024/9/2/بوتاش-التركية-وشل-البريطانية-توقعان\n",
      "---\n",
      "Title: \"صلتك\" القطرية توفر أكثر من 371 ألف فرصة عمل بالبرازيل\n",
      "Description: أكد شباب برازيليون للجزيرة نت أن مبادرة “مليون فرصة” التي أطلقتها مؤسسة “صلتك” القطرية سمحت لهم بتوسيع آفاقهم، مع التركيز على أهمية إشراك الشباب من مناطق الأطراف كفاعلين في سوق العمل.\n",
      "Date: 2/9/2024\n",
      "URL: https://www.aljazeera.net/politics/2024/9/2/صلتك-القطرية-توفر-أكثر-من-371-فرصة-عمل\n",
      "---\n",
      "Title: الدولار يلامس أعلى مستوى له قبل صدور بيانات أميركية\n",
      "Description: ارتفع الدولار إلى أعلى مستوياته منذ 21 أغسطس أمام الين، بدعم من ارتفاع عوائد سندات الخزانة الأميركية طويلة الأجل إلى أعلى مستوياتها منذ منتصف أغسطس بعد بيانات أظهرت عدم حدوث تراجع يذكر في معدل التضخم.\n",
      "Date: 2/9/2024\n",
      "URL: https://www.aljazeera.net/ebusiness/2024/9/2/الدولار-يلامس-أعلى-مستوى-له-قبل-صدور\n",
      "---\n",
      "Title: النفط يواصل خسائره واحتمالات زيادة إمدادات \"أوبك بلس\"\n",
      "Description: من المقرر أن تزيد 8 دول أعضاء في “أوبك بلس” إنتاجها بمقدار 180 ألف برميل يوميا في أكتوبر/تشرين الأول، ضمن خطة للبدء في الإلغاء التدريجي لأحدث شريحة من تخفيضات الإنتاج البالغة 2.2 مليون برميل يوميا.\n",
      "Date: 2/9/2024\n",
      "URL: https://www.aljazeera.net/ebusiness/2024/9/2/النفط-يواصل-خسائره-واحتمالات-زيادة\n",
      "---\n",
      "Title: الفوضى الاقتصادية تستنزف إسرائيل\n",
      "Description: تعيش إسرائيل قيادة ومجتمعا في حالة مستمرة من اللايقين العالي، مما يجعل المجتمع في وضع من القلق والذعر والترقّب المستمر، ويجبر القيادة على اتخاذ قرارات وتبني توجهات لا تستند إلى معطيات حقيقية وكاملة.\n",
      "Date: 2/9/2024\n",
      "URL: https://www.aljazeera.net/ebusiness/2024/9/2/اللايقين-يستنزف-إسرائيل\n",
      "---\n",
      "Title: مستثمرون يتوقعون صعودها.. قيمة \"أوبن إيه آي\" تتجاوز 100 مليار دولار\n",
      "Description: قالت مصادر لمجلة وول ستريت جورنال هذا الأسبوع إن “أوين إيه آي” تجري محادثات لجمع جولة جديدة من التمويل بقيمة تقدر بأكثر من 100 مليار دولار.\n",
      "Date: 1/9/2024\n",
      "URL: https://www.aljazeera.net/tech/2024/9/1/مستثمرون-يتوقعون-صعودها-قيمة-أوبن\n",
      "---\n",
      "Title: تفاقم أزمة الكهرباء في إيران.. إليك حجم الخسائر والقطاعات المتضررة\n",
      "Description: في مفارقة صادمة، تتفاقم أزمة الكهرباء خلال الصيف الجاري في إيران النفطية المصدرة للطاقة، لتغزو القطاع المنزلي بعد أن كبدت القطاعات الصناعية خسائر كبيرة وتسببت بتعليق الدوام في عدد من المحافظات.\n",
      "Date: 1/9/2024\n",
      "URL: https://www.aljazeera.net/ebusiness/2024/9/1/تفاقم-أزمة-الكهرباء-في-إيران-إليك-حجم\n",
      "---\n",
      "Title: قطر للطاقة تضاعف إنتاجها من اليوريا تعزيزا للأمن الغذائي العالمي\n",
      "Description: أعلن الرئيس التنفيذي لشركة قطر للطاقة سعد الكعبي في مؤتمر صحفي -اليوم الأحد- أن الشركة المملوكة للدولة ستعزز إنتاجها من اليوريا إلى أكثر من 12.4 مليون طن سنويا من 6 ملايين طن حاليا.\n",
      "Date: 1/9/2024\n",
      "URL: https://www.aljazeera.net/ebusiness/2024/9/1/قطر-للطاقة-تضاعف-إنتجها-من-اليوريا\n",
      "---\n",
      "Title: العراق سيعرض 10 مناطق للتنقيب عن الغاز على شركات أميركية\n",
      "Description: قال وزير النفط العراقي إن بلاده تعتزم عرض 10 مناطق للتنقيب عن الغاز على شركات أميركية خلال زيارة مرتقبة له إلى الولايات المتحدة، ويأتي ذلك في إطار جهود لجذب استثمارات أميركية لقطاع الطاقة.\n",
      "Date: 1/9/2024\n",
      "URL: https://www.aljazeera.net/ebusiness/2024/9/1/العراق-سيعرض-10-مناطق-للتنقيب-عن-الغاز\n",
      "---\n",
      "Title: قطاع الطاقة الشمسية في الصين يواجه تحديات كبيرة\n",
      "Description: يمر قطاع الطاقة الشمسية في الصين، الذي يمثل نحو 80% من الإنتاج العالمي، بمرحلة صعبة إذ يتوقع أن يشهد تحولا قريبا بعد سلسلة من الخسائر الكبيرة التي تعرضت لها الشركات الكبرى في النصف الأول من عام 2024.\n",
      "Date: 1/9/2024\n",
      "URL: https://www.aljazeera.net/ebusiness/2024/9/1/قطاع-الطاقة-الشمسية-في-الصين-يواجه\n",
      "---\n",
      "Title: 3 حقول نفط ليبية تتلقى تعليمات باستئناف الإنتاج\n",
      "Description: تلقت حقول نفط السرير والمسلة والنافورة في شرق ليبيا تعليمات باستئناف الإنتاج، حسبما نقلت وكالة رويترز عن مهندسين. وذلك بعد أن تسببت مواجهة بين فصائل سياسية متنافسة في إغلاق معظم حقول النفط في البلاد.\n",
      "Date: 1/9/2024\n",
      "URL: https://www.aljazeera.net/ebusiness/2024/9/1/3-حقول-نفط-ليبية-تتلقى-تعليمات-باستئناف\n",
      "---\n",
      "Title: بلدية جنين تقدر ما دمره الاحتلال بــ135 مليون دولار\n",
      "Description: وصف رئيس بلدية جنين نضال عبيدي الدمار الذي خلفه جيش الاحتلال الإسرائيلي في المدينة وحيها الشرقي ومخيمها بأنه كالزلزال، مقدرا خسائر التخريب بنحو 500 مليون شيكل (135.2 مليون دولار).\n",
      "Date: 1/9/2024\n",
      "URL: https://www.aljazeera.net/ebusiness/2024/9/1/بلدية-جنين-تقدر-تخريبات-جيش-الاحتلال\n",
      "---\n",
      "Title: الاقتصاد الأميركي يقاوم الركود بإنفاق المستهلكين\n",
      "Description: يواصل الاقتصاد الأميركي إظهار قدرة ملحوظة على الصمود، مدفوعًا بقوة الإنفاق الاستهلاكي، حتى في ظل استمرار المخاوف من ركود وشيك. \n",
      "Date: 31/8/2024\n",
      "URL: https://www.aljazeera.net/ebusiness/2024/8/31/الاقتصاد-الأميركي-يقاوم-الركود\n",
      "---\n",
      "Title: الجزائر تحصل على تفويض للانضمام إلى بنك \"بريكس\"\n",
      "Description: قالت رئيسة بنك التنمية لمجموعة بريكس ديلما روسيف اليوم السبت إن الجزائر حصلت على تفويض للانضمام إلى البنك.\n",
      "Date: 31/8/2024\n",
      "URL: https://www.aljazeera.net/ebusiness/2024/8/31/الجزائر-تحصل-على-تفويض-للانضمام-إلى\n",
      "---\n",
      "Title: 10 ملايين شخص.. المغرب يحقق رقما قياسيا في عدد السياح\n",
      "Description: أفادت مديرية الدراسات والتوقعات المالية التابعة لوزارة الاقتصاد والمالية أن المغرب شهد توافد رقم قياسي من السياح بلغ 10 ملايين سائح بمتم يوليو/تموز 2024، بارتفاع بـ15% مقارنة بالفترة ذاتها قبل سنة.\n",
      "Date: 31/8/2024\n",
      "URL: https://www.aljazeera.net/ebusiness/2024/8/31/10-ملايين-شخص-المغرب-يحقق-رقما-قياسيا-في\n",
      "---\n",
      "Title: ما الذي يجب أن تعرفه عن الخطة الاقتصادية لكامالا هاريس؟\n",
      "Description: تطرح نائبة الرئيس الأميركي والمرشحة عن الحزب الديمقراطي كامالا هاريس خطة اقتصادية تهدف إلى تقليل التكاليف وتعزيز الفرص الاقتصادية للأميركيين من الطبقة المتوسطة والدنيا. \n",
      "Date: 31/8/2024\n",
      "URL: https://www.aljazeera.net/ebusiness/2024/8/31/اقتصاد-هاريس-الواقع-والملامح\n",
      "---\n",
      "Title: قطاع التصنيع الصيني يسجل انكماشا للشهر الرابع على التوالي\n",
      "Description: سجل قطاع التصنيع الصيني انكماشا خلال الشهر الجاري للشهر الرابع على التوالي، حسبما أظهرت بيانات رسمية السبت، في نتيجة أسوأ من المتوقع تعكس الصعوبة التي يواجهها ثاني أكبر اقتصاد في العالم للتعافي.\n",
      "Date: 31/8/2024\n",
      "URL: https://www.aljazeera.net/ebusiness/2024/8/31/قطاع-التصنيع-الصيني-يسجل-انكماشا\n",
      "---\n"
     ]
    }
   ],
   "source": [
    "# Example usage\n",
    "base_url = \"https://www.aljazeera.net/ebusiness/\"\n",
    "all_articles = get_all_urls(base_url, max_articles=30)\n",
    "\n",
    "for article in all_articles:\n",
    "    print(f\"Title: {article['title']}\")\n",
    "    print(f\"Description: {article['description']}\")\n",
    "    print(f\"Date: {article['date']}\")\n",
    "    print(f\"URL: {article['url']}\")\n",
    "    print(\"---\")"
   ]
  },
  {
   "cell_type": "code",
   "execution_count": 11,
   "metadata": {},
   "outputs": [
    {
     "data": {
      "text/plain": [
       "[{'title': 'هل تسعى تركيا إلى \"بريكس\" لتبتعد عن الغرب؟',\n",
       "  'description': 'تسعى تركيا لتوسيع تحالفاتها العالمية وتطوير علاقاتها مع القوى الصاعدة عبر الانضمام إلى مجموعة “بريكس”، وهي مجموعة اقتصادية تضم بعضًا من أكبر الاقتصادات الناشئة في العالم.\\xa0',\n",
       "  'date': '3/9/2024',\n",
       "  'url': 'https://www.aljazeera.net/ebusiness/2024/9/3/هل-تسعى-تركيا-إلى-بريكس-لتبتعد-عن'},\n",
       " {'title': 'إجراءات البنك المركزي العراقي الجديدة بين التحديات المحلية والعقوبات الأميركية',\n",
       "  'description': 'أعلن البنك المركزي العراقي نتائج زيارة وفده الذي ترأسه المحافظ علي العلاق إلى واشنطن، ولقائه مع ممثلي الخزانة الأميركية والبنك الاحتياطي الفدرالي، بالإضافة إلى لقاءات مع مجموعة من الشركات والمصارف.',\n",
       "  'date': '3/9/2024',\n",
       "  'url': 'https://www.aljazeera.net/ebusiness/2024/9/3/إجراءات-البنك-المركزي-العراقي'},\n",
       " {'title': 'ما الفوائد التي ستجنيها الجزائر بعد انضمامها إلى بنك البريكس؟',\n",
       "  'description': 'تمت الموافقة رسميا على انضمام الجزائر الى بنك البريكس، في ختام الاجتماع السنوي لمجلس محافظي البنك الجديد للتنمية، الذي انعقد في كيب تاون بجنوب أفريقيا وهي خطوة كبيرة في مسار الاندماج المالي العالمي.',\n",
       "  'date': '2/9/2024',\n",
       "  'url': 'https://www.aljazeera.net/ebusiness/2024/9/2/ما-الفوائد-التي-ستجنيها-الجزائر-بعد'},\n",
       " {'title': 'إضراب “الهستدروت”.. هل يجبر نتنياهو على قبول صفقة التبادل؟',\n",
       "  'description': 'أكد مراقبون أن الإضراب الشامل في إسرائيل وإمكانية تمديده يعكسان حالة الخلافات بشأن أهداف الحرب واستمرارها، وأن رئيس الوزراء بنيامين نتنياهو “قلق” من تزايد المظاهرات وتداعياتها على مستقبله السياسي.',\n",
       "  'date': '2/9/2024',\n",
       "  'url': 'https://www.aljazeera.net/ebusiness/2024/9/2/محللون-نتنياهو-يخشى-الاحتجاجات-وقد'},\n",
       " {'title': 'كيف تتعامل إيران مع تهريب الوقود في الخليج العربي؟',\n",
       "  'description': 'تعاني إيران الغنية بمعادن الطاقة من تهريب الوقود إلى خارج حدودها. وتضبط قواتها البحرية بشكل مستمر عمليات تهريب الوقود، لا سيما الديزل، في مياه الخليج العربي التي تعد أهم بوابة لإيران على العالم.',\n",
       "  'date': '3/9/2024',\n",
       "  'url': 'https://www.aljazeera.net/ebusiness/2024/9/3/كيف-تتعامل-إيران-مع-تهريب-الوقود-في-2'},\n",
       " {'title': 'السعودية تستهدف وجود 525 شركة \"فينتك\" تقنية مالية بحلول 2030',\n",
       "  'description': 'كشف وزير المالية السعودي محمد الجدعان عن سعي بلاده لزيادة عدد الشركات العاملة في مجال التكنولوجيا المالية “فينتك”، لتصل إلى 525 شركة بحلول 2030، وذلك خلال كلمته في مؤتمر “فيتنك 24” في الرياض اليوم.',\n",
       "  'date': '3/9/2024',\n",
       "  'url': 'https://www.aljazeera.net/ebusiness/2024/9/3/السعودية-تستهدف-وجود-525-شركة-فينتك'},\n",
       " {'title': 'بلومبيرغ: صعود الشعبويين قد يؤثر في اقتصاد أوروبا ككل',\n",
       "  'description': 'قال مقال رأي في بلومبيرغ إن تراجع الاقتصاد في ألمانيا يفاقم الخلافات الداخلية بشأن الهجرة ودعم أوكرانيا، ويهدد شرعية الحكومة، مما يخلق بيئة مثالية لنمو الأحزاب المتطرفة.',\n",
       "  'date': '3/9/2024',\n",
       "  'url': 'https://www.aljazeera.net/ebusiness/2024/9/3/بلومبيرغ-ركود-الاقتصاد-الألماني-سمح'},\n",
       " {'title': '3 أنواع جديدة من مستهلكي التكنولوجيا المالية.. هل أنت منهم؟',\n",
       "  'description': 'يعتبر رواد التكنولوجيا المالية مجموعة ثرية مقارنة بالمستهلكين الآخرين، حيث إن إنفاقهم يميل إلى الترف أكثر من الأساسيات.',\n",
       "  'date': '3/9/2024',\n",
       "  'url': 'https://www.aljazeera.net/ebusiness/2024/9/3/3-أنواع-جديدة-من-مستهلكي-التكنولوجيا'},\n",
       " {'title': 'شركة سعودية تنفي استهداف ناقلتها أمجاد في البحر الأحمر',\n",
       "  'description': 'قالت الشركة السعودية للنقل البحري إن الناقلة أمجاد المملوكة لها كانت تبحر في البحر الأحمر أمس الاثنين بالقرب من ناقلة أخرى تعرضت لهجوم لكنها لم تكن مستهدفة ولم تلحق بها أي أضرار أو إصابات.',\n",
       "  'date': '3/9/2024',\n",
       "  'url': 'https://www.aljazeera.net/news/2024/9/3/عاجل-الشركة-السعودية-للنقل-البحري'},\n",
       " {'title': '%87 من كهرباء فلسطين مصدرها إسرائيل ومساع حكومية لتقليصها',\n",
       "  'description': 'ذكرت دراسة متخصصة أن اعتماد فلسطين بشكل شبه كامل (87%) على الكهرباء المستوردة من شركة الكهرباء الإسرائيلية، “يعزز التبعية الاقتصادية ويثقل كاهل الحكومة الفلسطينية بسبب تحكم الشركة الإسرائيلية”',\n",
       "  'date': '3/9/2024',\n",
       "  'url': 'https://www.aljazeera.net/ebusiness/2024/9/3/87-من-كهرباء-فلسطين-مصدرها-إسرائيل-ومساع'},\n",
       " {'title': 'التضخم ووهم خفض البطالة يربكان اقتصاد إسرائيل',\n",
       "  'description': 'ارتفعت أسعار المساكن في إسرائيل، وسط تراجع المعروض بسبب غياب العمالة الفلسطينية، في حين سجلت أسعار الخضار والفواكه زيادات متسارعة، بفعل غياب العمالة التايلاندية، إلى جانب أزمة البحر الأحمر.',\n",
       "  'date': '3/9/2024',\n",
       "  'url': 'https://www.aljazeera.net/ebusiness/2024/9/3/التضخم-ووهم-خفض-البطالة-يربكان-اقتصاد'},\n",
       " {'title': 'مصر.. توقعات بتثبيت أسعار الفائدة مع تراجع التضخم',\n",
       "  'description': 'من المتوقع أن يُبقي البنك المركزي المصري أسعار الفائدة دون تغيير في اجتماع لجنة السياسة النقدية يوم الخميس المقبل، وذلك في ظل استمرار تراجع معدلات التضخم، وفقا لاستطلاع أجرته وكالة رويترز.',\n",
       "  'date': '2/9/2024',\n",
       "  'url': 'https://www.aljazeera.net/ebusiness/2024/9/2/مصر-توقعات-بتثبيت-أسعار-الفائدة-مع'},\n",
       " {'title': 'توقعات بأن تخفض السعودية أسعار النفط الخام لآسيا في أكتوبر',\n",
       "  'description': 'من المتوقع أن ينخفض سعر البيع الرسمي للخام العربي الخفيف الرئيسي لشهر أكتوبر/تشرين الأول بين 50 و70 سنتا للبرميل، ليقتفي أثر اتجاه مماثل لهوامش الأسعار لدبي الشهر الماضي.',\n",
       "  'date': '2/9/2024',\n",
       "  'url': 'https://www.aljazeera.net/ebusiness/2024/9/2/توقعات-بأن-تخفض-السعودية-أسعار-النفط'},\n",
       " {'title': 'بوتاش التركية وشل البريطانية توقعان اتفاقية غاز طويلة الأجل',\n",
       "  'description': 'أوضحت وزارة الطاقة التركية أن الوزير سيجتمع اليوم في أنقرة مع وائل صوان الرئيس التنفيذي لشركة شل، وسيلقي بيانا عقب الاجتماع، إضافة لتوقيع اتفاقية طويلة الأجل للغاز الطبيعي المسال بين شركتي بوتاش وشل.',\n",
       "  'date': '2/9/2024',\n",
       "  'url': 'https://www.aljazeera.net/ebusiness/2024/9/2/بوتاش-التركية-وشل-البريطانية-توقعان'},\n",
       " {'title': '\"صلتك\" القطرية توفر أكثر من 371 ألف فرصة عمل بالبرازيل',\n",
       "  'description': 'أكد شباب برازيليون للجزيرة نت أن مبادرة “مليون فرصة” التي أطلقتها مؤسسة “صلتك” القطرية سمحت لهم بتوسيع آفاقهم، مع التركيز على أهمية إشراك الشباب من مناطق الأطراف كفاعلين في سوق العمل.',\n",
       "  'date': '2/9/2024',\n",
       "  'url': 'https://www.aljazeera.net/politics/2024/9/2/صلتك-القطرية-توفر-أكثر-من-371-فرصة-عمل'},\n",
       " {'title': 'الدولار يلامس أعلى مستوى له قبل صدور بيانات أميركية',\n",
       "  'description': 'ارتفع الدولار إلى أعلى مستوياته منذ 21 أغسطس أمام الين، بدعم من ارتفاع عوائد سندات الخزانة الأميركية طويلة الأجل إلى أعلى مستوياتها منذ منتصف أغسطس بعد بيانات أظهرت عدم حدوث تراجع يذكر في معدل التضخم.',\n",
       "  'date': '2/9/2024',\n",
       "  'url': 'https://www.aljazeera.net/ebusiness/2024/9/2/الدولار-يلامس-أعلى-مستوى-له-قبل-صدور'},\n",
       " {'title': 'النفط يواصل خسائره واحتمالات زيادة إمدادات \"أوبك بلس\"',\n",
       "  'description': 'من المقرر أن تزيد 8 دول أعضاء في “أوبك بلس” إنتاجها بمقدار 180 ألف برميل يوميا في أكتوبر/تشرين الأول، ضمن خطة للبدء في الإلغاء التدريجي لأحدث شريحة من تخفيضات الإنتاج البالغة 2.2 مليون برميل يوميا.',\n",
       "  'date': '2/9/2024',\n",
       "  'url': 'https://www.aljazeera.net/ebusiness/2024/9/2/النفط-يواصل-خسائره-واحتمالات-زيادة'},\n",
       " {'title': 'الفوضى الاقتصادية تستنزف إسرائيل',\n",
       "  'description': 'تعيش إسرائيل قيادة ومجتمعا في حالة مستمرة من اللايقين العالي، مما يجعل المجتمع في وضع من القلق والذعر والترقّب المستمر، ويجبر القيادة على اتخاذ قرارات وتبني توجهات لا تستند إلى معطيات حقيقية وكاملة.',\n",
       "  'date': '2/9/2024',\n",
       "  'url': 'https://www.aljazeera.net/ebusiness/2024/9/2/اللايقين-يستنزف-إسرائيل'},\n",
       " {'title': 'مستثمرون يتوقعون صعودها.. قيمة \"أوبن إيه آي\" تتجاوز 100 مليار دولار',\n",
       "  'description': 'قالت مصادر لمجلة وول ستريت جورنال هذا الأسبوع إن “أوين إيه آي” تجري محادثات لجمع جولة جديدة من التمويل بقيمة تقدر بأكثر من 100 مليار دولار.',\n",
       "  'date': '1/9/2024',\n",
       "  'url': 'https://www.aljazeera.net/tech/2024/9/1/مستثمرون-يتوقعون-صعودها-قيمة-أوبن'},\n",
       " {'title': 'تفاقم أزمة الكهرباء في إيران.. إليك حجم الخسائر والقطاعات المتضررة',\n",
       "  'description': 'في مفارقة صادمة، تتفاقم أزمة الكهرباء خلال الصيف الجاري في إيران النفطية المصدرة للطاقة، لتغزو القطاع المنزلي بعد أن كبدت القطاعات الصناعية خسائر\\xa0كبيرة وتسببت بتعليق الدوام في عدد من المحافظات.',\n",
       "  'date': '1/9/2024',\n",
       "  'url': 'https://www.aljazeera.net/ebusiness/2024/9/1/تفاقم-أزمة-الكهرباء-في-إيران-إليك-حجم'},\n",
       " {'title': 'قطر للطاقة تضاعف إنتاجها من اليوريا تعزيزا للأمن الغذائي العالمي',\n",
       "  'description': 'أعلن الرئيس التنفيذي لشركة قطر للطاقة سعد الكعبي في مؤتمر صحفي -اليوم الأحد- أن الشركة المملوكة للدولة ستعزز إنتاجها من اليوريا إلى أكثر من 12.4 مليون طن سنويا من 6 ملايين طن حاليا.',\n",
       "  'date': '1/9/2024',\n",
       "  'url': 'https://www.aljazeera.net/ebusiness/2024/9/1/قطر-للطاقة-تضاعف-إنتجها-من-اليوريا'},\n",
       " {'title': 'العراق سيعرض 10 مناطق للتنقيب عن الغاز على شركات أميركية',\n",
       "  'description': 'قال وزير النفط العراقي إن بلاده تعتزم عرض 10 مناطق للتنقيب عن الغاز على شركات أميركية خلال زيارة مرتقبة له إلى الولايات المتحدة، ويأتي ذلك في إطار جهود لجذب استثمارات أميركية لقطاع الطاقة.',\n",
       "  'date': '1/9/2024',\n",
       "  'url': 'https://www.aljazeera.net/ebusiness/2024/9/1/العراق-سيعرض-10-مناطق-للتنقيب-عن-الغاز'},\n",
       " {'title': 'قطاع الطاقة الشمسية في الصين يواجه تحديات كبيرة',\n",
       "  'description': 'يمر قطاع الطاقة الشمسية في الصين، الذي يمثل نحو 80% من الإنتاج العالمي، بمرحلة صعبة إذ يتوقع أن يشهد تحولا قريبا بعد سلسلة من الخسائر الكبيرة التي تعرضت لها الشركات الكبرى في النصف الأول من عام 2024.',\n",
       "  'date': '1/9/2024',\n",
       "  'url': 'https://www.aljazeera.net/ebusiness/2024/9/1/قطاع-الطاقة-الشمسية-في-الصين-يواجه'},\n",
       " {'title': '3 حقول نفط ليبية تتلقى تعليمات باستئناف الإنتاج',\n",
       "  'description': 'تلقت حقول نفط السرير والمسلة والنافورة في شرق ليبيا تعليمات باستئناف الإنتاج، حسبما نقلت وكالة رويترز عن مهندسين. وذلك بعد أن تسببت مواجهة بين فصائل سياسية متنافسة في إغلاق معظم حقول النفط في البلاد.',\n",
       "  'date': '1/9/2024',\n",
       "  'url': 'https://www.aljazeera.net/ebusiness/2024/9/1/3-حقول-نفط-ليبية-تتلقى-تعليمات-باستئناف'},\n",
       " {'title': 'بلدية جنين تقدر ما دمره الاحتلال بــ135 مليون دولار',\n",
       "  'description': 'وصف رئيس بلدية جنين نضال عبيدي الدمار الذي خلفه جيش الاحتلال الإسرائيلي في المدينة وحيها الشرقي ومخيمها بأنه كالزلزال، مقدرا خسائر التخريب بنحو 500 مليون شيكل (135.2 مليون دولار).',\n",
       "  'date': '1/9/2024',\n",
       "  'url': 'https://www.aljazeera.net/ebusiness/2024/9/1/بلدية-جنين-تقدر-تخريبات-جيش-الاحتلال'},\n",
       " {'title': 'الاقتصاد الأميركي يقاوم الركود بإنفاق المستهلكين',\n",
       "  'description': 'يواصل الاقتصاد الأميركي إظهار قدرة ملحوظة على الصمود، مدفوعًا بقوة الإنفاق الاستهلاكي، حتى في ظل استمرار المخاوف من ركود وشيك.\\xa0',\n",
       "  'date': '31/8/2024',\n",
       "  'url': 'https://www.aljazeera.net/ebusiness/2024/8/31/الاقتصاد-الأميركي-يقاوم-الركود'},\n",
       " {'title': 'الجزائر تحصل على تفويض للانضمام إلى بنك \"بريكس\"',\n",
       "  'description': 'قالت رئيسة بنك التنمية لمجموعة بريكس ديلما روسيف اليوم السبت إن الجزائر حصلت على تفويض للانضمام إلى البنك.',\n",
       "  'date': '31/8/2024',\n",
       "  'url': 'https://www.aljazeera.net/ebusiness/2024/8/31/الجزائر-تحصل-على-تفويض-للانضمام-إلى'},\n",
       " {'title': '10 ملايين شخص.. المغرب يحقق رقما قياسيا في عدد السياح',\n",
       "  'description': 'أفادت مديرية الدراسات والتوقعات المالية التابعة لوزارة الاقتصاد والمالية أن المغرب شهد توافد رقم قياسي من السياح بلغ 10 ملايين سائح بمتم يوليو/تموز 2024، بارتفاع بـ15% مقارنة بالفترة ذاتها قبل سنة.',\n",
       "  'date': '31/8/2024',\n",
       "  'url': 'https://www.aljazeera.net/ebusiness/2024/8/31/10-ملايين-شخص-المغرب-يحقق-رقما-قياسيا-في'},\n",
       " {'title': 'ما الذي يجب أن تعرفه عن الخطة الاقتصادية لكامالا هاريس؟',\n",
       "  'description': 'تطرح نائبة الرئيس الأميركي والمرشحة عن الحزب الديمقراطي كامالا هاريس خطة اقتصادية تهدف إلى تقليل التكاليف وتعزيز الفرص الاقتصادية للأميركيين من الطبقة المتوسطة والدنيا.\\xa0',\n",
       "  'date': '31/8/2024',\n",
       "  'url': 'https://www.aljazeera.net/ebusiness/2024/8/31/اقتصاد-هاريس-الواقع-والملامح'},\n",
       " {'title': 'قطاع التصنيع الصيني يسجل انكماشا للشهر الرابع على التوالي',\n",
       "  'description': 'سجل قطاع التصنيع الصيني انكماشا خلال الشهر الجاري للشهر الرابع على التوالي، حسبما أظهرت بيانات رسمية السبت، في نتيجة أسوأ من المتوقع تعكس الصعوبة التي يواجهها ثاني أكبر اقتصاد في العالم للتعافي.',\n",
       "  'date': '31/8/2024',\n",
       "  'url': 'https://www.aljazeera.net/ebusiness/2024/8/31/قطاع-التصنيع-الصيني-يسجل-انكماشا'}]"
      ]
     },
     "execution_count": 11,
     "metadata": {},
     "output_type": "execute_result"
    }
   ],
   "source": [
    "all_articles"
   ]
  },
  {
   "cell_type": "code",
   "execution_count": 13,
   "metadata": {},
   "outputs": [
    {
     "data": {
      "text/plain": [
       "'https://www.aljazeera.net/ebusiness/2024/9/2/ما-الفوائد-التي-ستجنيها-الجزائر-بعد'"
      ]
     },
     "execution_count": 13,
     "metadata": {},
     "output_type": "execute_result"
    }
   ],
   "source": [
    "article_url = all_articles[2]['url']\n",
    "article_url\n"
   ]
  },
  {
   "cell_type": "markdown",
   "metadata": {},
   "source": [
    "### Scraping one article"
   ]
  },
  {
   "cell_type": "code",
   "execution_count": 14,
   "metadata": {},
   "outputs": [
    {
     "data": {
      "text/plain": [
       "<main aria-label=\"مجال المحتوى الرئيسي\" id=\"main-content-area\" tabindex=\"-1\"><header class=\"article-header\"><div class=\"breadcrumbs\"><div class=\"topics\"><a href=\"/ebusiness/\">اقتصاد</a>|<a href=\"/where/arab/\">عربي</a></div></div><h1>ما الفوائد التي ستجنيها الجزائر بعد انضمامها إلى بنك البريكس؟</h1></header><figure class=\"article-featured-image\"><div class=\"responsive-image\"><img alt=\"الانضمام إلى بنك بريكس خطوة كبيرة في مسار الاندماج في النظام المالي العالمية وزارة المالية الجزائرية الصفحة الرسمية\" fetchpriority=\"high\" loading=\"eager\" sizes=\"(max-width: 120px) 120px, (max-width: 270px) 270px, (max-width: 375px) 375px, (max-width: 570px) 570px, (max-width: 770px) 770px, 770px\" src=\"/wp-content/uploads/2024/09/غع7-1725282505.jpg?resize=770%2C513&amp;quality=80\" srcset=\"/wp-content/uploads/2024/09/غع7-1725282505.jpg?resize=120%2C80&amp;quality=80 120w, /wp-content/uploads/2024/09/غع7-1725282505.jpg?resize=270%2C180&amp;quality=80 270w, /wp-content/uploads/2024/09/غع7-1725282505.jpg?resize=375%2C250&amp;quality=80 375w, /wp-content/uploads/2024/09/غع7-1725282505.jpg?resize=570%2C380&amp;quality=80 570w, /wp-content/uploads/2024/09/غع7-1725282505.jpg?resize=770%2C513&amp;quality=80 770w\"/></div><figcaption>الانضمام إلى بنك بريكس خطوة كبيرة في مسار الاندماج في النظام المالي العالمي (وزارة المالية الجزائرية)</figcaption></figure><div class=\"article-info-block\"><div class=\"article-b-l\"><div class=\"article-author-name\"><span class=\"article-author-name-item\"><a class=\"author-link\" href=\"/author/%d8%a5%d9%84%d9%87%d8%a7%d9%85-%d9%85%d8%ad%d9%85%d8%af\">إلهام محمد</a></span></div><div class=\"article-dates\"><span><span class=\"article-dates__published\">2/9/2024</span></span></div></div></div><style data-emotion-css=\"1vkfgk0\">.css-1vkfgk0{display:block;font-family:\"Al-Jazeera\",\"Helvetica Neue\",\"Helvetica\",\"Arial\",sans-serif !important;font-size:22px !important;}.css-1vkfgk0 blockquote{font-family:\"Al-Jazeera\",\"Helvetica Neue\",\"Helvetica\",\"Arial\",sans-serif !important;}.css-1vkfgk0 p{font-family:\"Al-Jazeera\",\"Helvetica Neue\",\"Helvetica\",\"Arial\",sans-serif !important;}.css-1vkfgk0 h1{font-family:\"Al-Jazeera\",\"Helvetica Neue\",\"Helvetica\",\"Arial\",sans-serif !important;}.css-1vkfgk0 h2{font-size:32px;font-family:\"Al-Jazeera\",\"Helvetica Neue\",\"Helvetica\",\"Arial\",sans-serif !important;}.css-1vkfgk0 h3{font-size:26px;font-family:\"Al-Jazeera\",\"Helvetica Neue\",\"Helvetica\",\"Arial\",sans-serif !important;}.css-1vkfgk0 h4{font-size:22px;font-family:\"Al-Jazeera\",\"Helvetica Neue\",\"Helvetica\",\"Arial\",sans-serif !important;}.css-1vkfgk0 h5{font-family:\"Al-Jazeera\",\"Helvetica Neue\",\"Helvetica\",\"Arial\",sans-serif !important;}.css-1vkfgk0 figure{font-family:\"Al-Jazeera\",\"Helvetica Neue\",\"Helvetica\",\"Arial\",sans-serif !important;}.css-1vkfgk0 a{color:#0059A5;}.css-1vkfgk0 blockquote::after{background-color:#32a2ef;}.css-1vkfgk0 li::before{background-color:#32a2ef;}</style><div aria-atomic=\"true\" aria-live=\"polite\" class=\"wysiwyg wysiwyg--all-content css-1vkfgk0\"><p><strong>الجزائر-</strong> أعلنت وزارة المالية الجزائرية أنه تمت الموافقة رسميا على انضمام الجزائر الى بنك <a href=\"/encyclopedia/2023/5/4/%D8%A8%D8%B1%D9%8A%D9%83%D8%B3-%D8%AA%D9%83%D8%AA%D9%84-%D8%A7%D9%82%D8%AA%D8%B5%D8%A7%D8%AF%D9%8A-%D9%8A%D8%B3%D8%B9%D9%89-%D9%84%D9%83%D8%B3%D8%B1-%D9%87%D9%8A%D9%85%D9%86%D8%A9\">البريكس</a> وذلك في ختام الاجتماع السنوي التاسع لمجلس محافظي البنك الجديد للتنمية \"إن دي بي\" (NDB)، الذي انعقد السبت 31 أغسطس/آب في كيب تاون بجنوب أفريقيا.</p>\n",
       "<p>واعتبرت وزارة المالية الجزائرية أن انضمام <a href=\"/encyclopedia/2014/2/18/%D8%A7%D9%84%D8%AC%D8%B2%D8%A7%D8%A6%D8%B1\">الجزائر</a> إلى هذه المؤسسة التنموية الهامة، التي تُعتبر الذراع المالية لمجموعة بريكس، خطوة كبيرة في مسار الاندماج في النظام المالي العالمي، مما يجعل الجزائر الدولة التاسعة التي تنضم إلى عضوية البنك الجديد للتنمية.</p>\n",
       "<p>وناقش وزير المالية الجزائري لعزيز فايد في أبريل/نيسان الماضي بواشنطن مع ديلما فانا روسيف، رئيسة بنك التنمية الجديد تطور عملية انضمام الجزائر إلى هذه المؤسسة المالية الدولية، كما ناقش الطرفان إمكانات التعاون مستقبلا ما بين البنك والجزائر في تمويل المشاريع التنموية الإستراتيجية والهيكلية للاقتصاد الجزائري.</p>\n",
       "<p>وكان الرئيس الجزائري <a href=\"/encyclopedia/2017/5/25/%D9%85%D9%86-%D9%87%D9%88-%D8%B1%D8%A6%D9%8A%D8%B3-%D8%A7%D9%84%D8%AD%D9%83%D9%88%D9%85%D8%A9-%D8%A7%D9%84%D8%AC%D8%B2%D8%A7%D8%A6%D8%B1%D9%8A%D8%A9-%D8%B9%D8%A8%D8%AF\">عبد المجيد تبون</a> قد كشف في ختام زيارته للصين العام الماضي أن الجزائر طلبت رسميا الانضمام الى البنك التابع لمجموعة \"بريكس\" كعضو، وبمساهمة أولى قدرها 1.5 مليار دولار.</p>\n",
       "<figure aria-describedby=\"caption-attachment-6844367\" class=\"wp-caption aligncenter\" id=\"attachment_6844367\" style=\"width:770px\"><img alt=\"الجزائر تنضم رسميا إلى بنك البريكس التواصل الإجتماعي\" class=\"size-arc-image-770 wp-image-6844367\" data-recalc-dims=\"1\" loading=\"lazy\" src=\"/wp-content/uploads/2024/09/ث3-1725282497.jpg?w=770&amp;resize=770%2C513\"/><figcaption class=\"wp-caption-text\" id=\"caption-attachment-6844367\">الجزائر تنضم رسميا إلى بنك البريكس (مواقع التواصل)</figcaption></figure>\n",
       "<h2 class=\"heading-with-anchor\" id=\"بعد-جيوسياسي\">بعد جيوسياسي<span class=\"heading-anchor-button\" title=\"نسخ الوصلة\"><svg fill=\"none\" height=\"24px\" viewbox=\"0 0 24 24\" width=\"24px\" xmlns=\"http://www.w3.org/2000/svg\"><path d=\"M8 6.75C5.10051 6.75 2.75 9.10051 2.75 12C2.75 14.8995 5.10051 17.25 8 17.25H9C9.41421 17.25 9.75 17.5858 9.75 18C9.75 18.4142 9.41421 18.75 9 18.75H8C4.27208 18.75 1.25 15.7279 1.25 12C1.25 8.27208 4.27208 5.25 8 5.25H9C9.41421 5.25 9.75 5.58579 9.75 6C9.75 6.41421 9.41421 6.75 9 6.75H8Z\" fill=\"#1C274C\"></path><path d=\"M8.24991 11.9999C8.24991 11.5857 8.58569 11.2499 8.99991 11.2499H14.9999C15.4141 11.2499 15.7499 11.5857 15.7499 11.9999C15.7499 12.4142 15.4141 12.7499 14.9999 12.7499H8.99991C8.58569 12.7499 8.24991 12.4142 8.24991 11.9999Z\" fill=\"#1C274C\"></path><path d=\"M15 5.25C14.5858 5.25 14.25 5.58579 14.25 6C14.25 6.41421 14.5858 6.75 15 6.75H16C18.8995 6.75 21.25 9.10051 21.25 12C21.25 14.8995 18.8995 17.25 16 17.25H15C14.5858 17.25 14.25 17.5858 14.25 18C14.25 18.4142 14.5858 18.75 15 18.75H16C19.7279 18.75 22.75 15.7279 22.75 12C22.75 8.27208 19.7279 5.25 16 5.25H15Z\" fill=\"#1C274C\"></path></svg></span></h2>\n",
       "<p>واعتبر الخبير الاقتصادي والمستشار الدولي في التنمية الاقتصادية، عبد الرحمن هادف، أن انضمام الجزائر رسميا إلى بنك البريكس \"يحمل بعدا جيو-سياسيا يتمثل في اكتسابها مكانة في إحدى الآليات المالية الكبرى التي سيكون لها دور في صياغة المنظومة المالية الدولية مستقبلا\".</p>\n",
       "<p>وأكد هادف في حديثه للجزيرة نت، أن انضمام الجزائر لبنك البريكس سيسمح بتسريع مسار الوصول إلى  الهدف الأول والإستراتيجي للبلاد خلال المرحلة المتوسطة وهو اللحاق بركب الدول الناشئة، إضافة إلى تسريع مسار التنمية وفق مقاربة ونموذج جديدين في مجال التنمية الاقتصادية وهو ما سيتحقق باستفادة الجزائر من خبرات الدول الأعضاء بالبنك وإبرام شراكات معها ثم الاندماج في سلاسل القيم العالمية.</p>\n",
       "<h2 class=\"heading-with-anchor\" id=\"تمويل-المشاريع\">تمويل المشاريع<span class=\"heading-anchor-button\" title=\"نسخ الوصلة\"><svg fill=\"none\" height=\"24px\" viewbox=\"0 0 24 24\" width=\"24px\" xmlns=\"http://www.w3.org/2000/svg\"><path d=\"M8 6.75C5.10051 6.75 2.75 9.10051 2.75 12C2.75 14.8995 5.10051 17.25 8 17.25H9C9.41421 17.25 9.75 17.5858 9.75 18C9.75 18.4142 9.41421 18.75 9 18.75H8C4.27208 18.75 1.25 15.7279 1.25 12C1.25 8.27208 4.27208 5.25 8 5.25H9C9.41421 5.25 9.75 5.58579 9.75 6C9.75 6.41421 9.41421 6.75 9 6.75H8Z\" fill=\"#1C274C\"></path><path d=\"M8.24991 11.9999C8.24991 11.5857 8.58569 11.2499 8.99991 11.2499H14.9999C15.4141 11.2499 15.7499 11.5857 15.7499 11.9999C15.7499 12.4142 15.4141 12.7499 14.9999 12.7499H8.99991C8.58569 12.7499 8.24991 12.4142 8.24991 11.9999Z\" fill=\"#1C274C\"></path><path d=\"M15 5.25C14.5858 5.25 14.25 5.58579 14.25 6C14.25 6.41421 14.5858 6.75 15 6.75H16C18.8995 6.75 21.25 9.10051 21.25 12C21.25 14.8995 18.8995 17.25 16 17.25H15C14.5858 17.25 14.25 17.5858 14.25 18C14.25 18.4142 14.5858 18.75 15 18.75H16C19.7279 18.75 22.75 15.7279 22.75 12C22.75 8.27208 19.7279 5.25 16 5.25H15Z\" fill=\"#1C274C\"></path></svg></span></h2>\n",
       "<p>وقال عبد الرحمن هادف إن وجود الجزائر في بنك البريكس سيمكنها من إبرام شراكات مع بلدان تتقاسم معها الرؤى نفسها، إضافة إلى الحصول على تمويلات تتعلق  بالمشاريع الكبرى المهيكلة ومشاريع البنى التحتية على وجه الخصوص، على غرار مشاريع الطرقات والموانئ وسكك الحديد وفق تصور جديد يعزز الاندماج الإقليمي للجزائر خاصة مع الدول العربية والأفريقية.</p>\n",
       "<p>من جانبه، أكد الخبير الاقتصادي والمالي، أبو بكر سلامي، أن انضمام الجزائر لبنك لبريكس يحمل عديد الإيجابيات باعتباره مؤسسة مالية توفر عديد الخدمات للمنضمّين إليها على شكل قروض وقروض بدون فائدة أو بفائدة منخفضة وهو ما ستستفيد منه الجزائر على غرار باقي الدول.</p>\n",
       "<p>وقال سلامي في حديثه للجزيرة نت، إن من بين الدلالات التي يحملها انضمام الجزائر لبنك بريكس \"أن الاقتصاد الجزائري بصحة جيدة ما سيقدم الإضافة الاقتصادية والمالية للجزائر\".</p>\n",
       "<figure aria-describedby=\"caption-attachment-6844371\" class=\"wp-caption aligncenter\" id=\"attachment_6844371\" style=\"width:770px\"><img alt=\"بلغت مساهمة الجزائر في بنك البريكس 1.5 مليار دولار وزارة المالية الجزائرية\" class=\"size-arc-image-770 wp-image-6844371\" data-recalc-dims=\"1\" loading=\"lazy\" src=\"/wp-content/uploads/2024/09/ف5-1725282511.jpg?w=770&amp;resize=770%2C513\"/><figcaption class=\"wp-caption-text\" id=\"caption-attachment-6844371\">بلغت مساهمة الجزائر في بنك البريكس 1.5 مليار دولار (وزارة المالية الجزائرية)</figcaption></figure>\n",
       "<h2 class=\"heading-with-anchor\" id=\"رفع-نسبة-المشاركة-في-راس-مال-البنك\">رفع نسبة المشاركة في رأس مال البنك<span class=\"heading-anchor-button\" title=\"نسخ الوصلة\"><svg fill=\"none\" height=\"24px\" viewbox=\"0 0 24 24\" width=\"24px\" xmlns=\"http://www.w3.org/2000/svg\"><path d=\"M8 6.75C5.10051 6.75 2.75 9.10051 2.75 12C2.75 14.8995 5.10051 17.25 8 17.25H9C9.41421 17.25 9.75 17.5858 9.75 18C9.75 18.4142 9.41421 18.75 9 18.75H8C4.27208 18.75 1.25 15.7279 1.25 12C1.25 8.27208 4.27208 5.25 8 5.25H9C9.41421 5.25 9.75 5.58579 9.75 6C9.75 6.41421 9.41421 6.75 9 6.75H8Z\" fill=\"#1C274C\"></path><path d=\"M8.24991 11.9999C8.24991 11.5857 8.58569 11.2499 8.99991 11.2499H14.9999C15.4141 11.2499 15.7499 11.5857 15.7499 11.9999C15.7499 12.4142 15.4141 12.7499 14.9999 12.7499H8.99991C8.58569 12.7499 8.24991 12.4142 8.24991 11.9999Z\" fill=\"#1C274C\"></path><path d=\"M15 5.25C14.5858 5.25 14.25 5.58579 14.25 6C14.25 6.41421 14.5858 6.75 15 6.75H16C18.8995 6.75 21.25 9.10051 21.25 12C21.25 14.8995 18.8995 17.25 16 17.25H15C14.5858 17.25 14.25 17.5858 14.25 18C14.25 18.4142 14.5858 18.75 15 18.75H16C19.7279 18.75 22.75 15.7279 22.75 12C22.75 8.27208 19.7279 5.25 16 5.25H15Z\" fill=\"#1C274C\"></path></svg></span></h2>\n",
       "<p>وعاد سلامي لمشاركة الجزائر في رأس مال البنك الجديد للتنمية وهو ما سيكسبها سلطة إبداء الرأي في القرارات المتخذة من هذا البنك ذي الآفاق المستقبلية.</p>\n",
       "<p>واعتبر الخبير الاقتصادي والمالي، أن التحدي الوحيد الذي يواجه الجزائر مع انضمامها الى هذه المؤسسة المالية هو رفع حصتها في رأس مال البريكس وضرورة الحفاظ على الوضع المالي الذي يسمح لها بالتماشي مع القرارات التي يتخذها هذا البنك على غرار رفع رأس المال أو تقديم المساعدات والقروض وفق سياسة عمل البنك وصولا إلى القرارات المتعلقة بعملة البريكس وهو ما يرتبط أساسا بنسبة المشاركة في رأس مال البنك.</p>\n",
       "</div><div class=\"article-source\">المصدر<!-- --> : <!-- -->الجزيرة</div></main>"
      ]
     },
     "execution_count": 14,
     "metadata": {},
     "output_type": "execute_result"
    }
   ],
   "source": [
    "response = requests.get(article_url)\n",
    "\n",
    "soup = BeautifulSoup(response.content, 'html.parser')\n",
    "\n",
    "main_content = soup.find('main', id='main-content-area')\n",
    "\n",
    "main_content"
   ]
  },
  {
   "cell_type": "code",
   "execution_count": 19,
   "metadata": {},
   "outputs": [
    {
     "data": {
      "text/plain": [
       "{'اقتصاد': 'https://www.aljazeera.net/ebusiness/',\n",
       " 'عربي': 'https://www.aljazeera.net/where/arab/'}"
      ]
     },
     "execution_count": 19,
     "metadata": {},
     "output_type": "execute_result"
    }
   ],
   "source": [
    "base_url = 'https://www.aljazeera.net'\n",
    "\n",
    "\n",
    "header = main_content.find('header')\n",
    "topics = header.find('div', class_='topics')\n",
    "links = topics.find_all('a')\n",
    "\n",
    "topics_and_urls = {}\n",
    "for link in links:\n",
    "    topic = link.get_text()\n",
    "    relative_url = link.get('href')\n",
    "    absolute_url = base_url + relative_url\n",
    "    topics_and_urls[topic] = absolute_url\n",
    " \n",
    "topics_and_urls\n"
   ]
  },
  {
   "cell_type": "code",
   "execution_count": 20,
   "metadata": {},
   "outputs": [
    {
     "data": {
      "text/plain": [
       "'ما الفوائد التي ستجنيها الجزائر بعد انضمامها إلى بنك البريكس؟'"
      ]
     },
     "execution_count": 20,
     "metadata": {},
     "output_type": "execute_result"
    }
   ],
   "source": [
    "title = header.find('h1').get_text()\n",
    "title"
   ]
  },
  {
   "cell_type": "code",
   "execution_count": 22,
   "metadata": {},
   "outputs": [
    {
     "name": "stdout",
     "output_type": "stream",
     "text": [
      "Image URL: https://www.aljazeera.net/wp-content/uploads/2024/09/غع7-1725282505.jpg?resize=770%2C513&quality=80\n",
      "Figure Caption: الانضمام إلى بنك بريكس خطوة كبيرة في مسار الاندماج في النظام المالي العالمي (وزارة المالية الجزائرية)\n"
     ]
    }
   ],
   "source": [
    "figure = main_content.find('figure')\n",
    "\n",
    "img = figure.find('img')\n",
    "img_src = img.get('src')\n",
    "img_url = base_url + img_src\n",
    "\n",
    "figcaption = figure.find('figcaption').get_text()\n",
    "\n",
    "print(\"Image URL:\", img_url)\n",
    "print(\"Figure Caption:\", figcaption)"
   ]
  },
  {
   "cell_type": "code",
   "execution_count": 38,
   "metadata": {},
   "outputs": [
    {
     "data": {
      "text/plain": [
       "'إلهام محمد'"
      ]
     },
     "execution_count": 38,
     "metadata": {},
     "output_type": "execute_result"
    }
   ],
   "source": [
    "author_info = main_content.find('a', class_='author-link')\n",
    "\n",
    "author_link = author_info.get('href')\n",
    "author_link = base_url + author_link\n",
    "author_link = urllib.parse.unquote(author_link)  \n",
    "author_link\n",
    "\n",
    "author_name = author_info.get_text()\n",
    "author_name"
   ]
  },
  {
   "cell_type": "code",
   "execution_count": 39,
   "metadata": {},
   "outputs": [
    {
     "data": {
      "text/plain": [
       "'2/9/2024'"
      ]
     },
     "execution_count": 39,
     "metadata": {},
     "output_type": "execute_result"
    }
   ],
   "source": [
    "publish_date = main_content.find('span', class_='article-dates__published').get_text()\n",
    "publish_date\n"
   ]
  },
  {
   "cell_type": "code",
   "execution_count": 43,
   "metadata": {},
   "outputs": [
    {
     "data": {
      "text/plain": [
       "'الجزائر-\\nأعلنت وزارة المالية الجزائرية أنه تمت الموافقة رسميا على انضمام الجزائر الى بنك\\nالبريكس\\nوذلك في ختام الاجتماع السنوي التاسع لمجلس محافظي البنك الجديد للتنمية \"إن دي بي\" (NDB)، الذي انعقد السبت 31 أغسطس/آب في كيب تاون بجنوب أفريقيا.\\nواعتبرت وزارة المالية الجزائرية أن انضمام\\nالجزائر\\nإلى هذه المؤسسة التنموية الهامة، التي تُعتبر الذراع المالية لمجموعة بريكس، خطوة كبيرة في مسار الاندماج في النظام المالي العالمي، مما يجعل الجزائر الدولة التاسعة التي تنضم إلى عضوية البنك الجديد للتنمية.\\nوناقش وزير المالية الجزائري لعزيز فايد في أبريل/نيسان الماضي بواشنطن مع ديلما فانا روسيف، رئيسة بنك التنمية الجديد تطور عملية انضمام الجزائر إلى هذه المؤسسة المالية الدولية، كما ناقش الطرفان إمكانات التعاون مستقبلا ما بين البنك والجزائر في تمويل المشاريع التنموية الإستراتيجية والهيكلية للاقتصاد الجزائري.\\nوكان الرئيس الجزائري\\nعبد المجيد تبون\\nقد كشف في ختام زيارته للصين العام الماضي أن الجزائر طلبت رسميا الانضمام الى البنك التابع لمجموعة \"بريكس\" كعضو، وبمساهمة أولى قدرها 1.5 مليار دولار.\\nالجزائر تنضم رسميا إلى بنك البريكس (مواقع التواصل)\\nبعد جيوسياسي\\nواعتبر الخبير الاقتصادي والمستشار الدولي في التنمية الاقتصادية، عبد الرحمن هادف، أن انضمام الجزائر رسميا إلى بنك البريكس \"يحمل بعدا جيو-سياسيا يتمثل في اكتسابها مكانة في إحدى الآليات المالية الكبرى التي سيكون لها دور في صياغة المنظومة المالية الدولية مستقبلا\".\\nوأكد هادف في حديثه للجزيرة نت، أن انضمام الجزائر لبنك البريكس سيسمح بتسريع مسار الوصول إلى\\xa0 الهدف الأول والإستراتيجي للبلاد خلال المرحلة المتوسطة وهو اللحاق بركب الدول الناشئة، إضافة إلى تسريع مسار التنمية وفق مقاربة ونموذج جديدين في مجال التنمية الاقتصادية وهو ما سيتحقق باستفادة الجزائر من خبرات الدول الأعضاء بالبنك وإبرام شراكات معها ثم الاندماج في سلاسل القيم العالمية.\\nتمويل المشاريع\\nوقال عبد الرحمن هادف إن وجود الجزائر في بنك البريكس سيمكنها من إبرام شراكات مع بلدان تتقاسم معها الرؤى نفسها، إضافة إلى الحصول على تمويلات تتعلق \\xa0بالمشاريع الكبرى المهيكلة ومشاريع البنى التحتية على وجه الخصوص، على غرار مشاريع الطرقات والموانئ وسكك الحديد وفق تصور جديد يعزز الاندماج الإقليمي للجزائر خاصة مع الدول العربية والأفريقية.\\nمن جانبه، أكد الخبير الاقتصادي والمالي، أبو بكر سلامي، أن انضمام الجزائر لبنك لبريكس يحمل عديد الإيجابيات باعتباره مؤسسة مالية توفر عديد الخدمات للمنضمّين إليها على شكل قروض وقروض بدون فائدة أو بفائدة منخفضة وهو ما ستستفيد منه الجزائر على غرار باقي الدول.\\nوقال سلامي في حديثه للجزيرة نت، إن من بين الدلالات التي يحملها انضمام الجزائر لبنك بريكس \"أن الاقتصاد الجزائري بصحة جيدة ما سيقدم الإضافة الاقتصادية والمالية للجزائر\".\\nبلغت مساهمة الجزائر في بنك البريكس 1.5 مليار دولار (وزارة المالية الجزائرية)\\nرفع نسبة المشاركة في رأس مال البنك\\nوعاد سلامي لمشاركة الجزائر في رأس مال البنك الجديد للتنمية وهو ما سيكسبها سلطة إبداء الرأي في القرارات المتخذة من هذا البنك ذي الآفاق المستقبلية.\\nواعتبر الخبير الاقتصادي والمالي، أن التحدي الوحيد الذي يواجه الجزائر مع انضمامها الى هذه المؤسسة المالية هو رفع حصتها في رأس مال البريكس وضرورة الحفاظ على الوضع المالي الذي يسمح لها بالتماشي مع القرارات التي يتخذها هذا البنك على غرار رفع رأس المال أو تقديم المساعدات والقروض وفق سياسة عمل البنك وصولا إلى القرارات المتعلقة بعملة البريكس وهو ما يرتبط أساسا بنسبة المشاركة في رأس مال البنك.'"
      ]
     },
     "execution_count": 43,
     "metadata": {},
     "output_type": "execute_result"
    }
   ],
   "source": [
    "article_content = main_content.find('div', class_='wysiwyg wysiwyg--all-content css-1vkfgk0')\n",
    "\n",
    "article_content = article_content.get_text(separator='\\n', strip=True)\n",
    "article_content"
   ]
  },
  {
   "cell_type": "code",
   "execution_count": null,
   "metadata": {},
   "outputs": [],
   "source": []
  }
 ],
 "metadata": {
  "kernelspec": {
   "display_name": "ml-env",
   "language": "python",
   "name": "python3"
  },
  "language_info": {
   "codemirror_mode": {
    "name": "ipython",
    "version": 3
   },
   "file_extension": ".py",
   "mimetype": "text/x-python",
   "name": "python",
   "nbconvert_exporter": "python",
   "pygments_lexer": "ipython3",
   "version": "3.12.4"
  }
 },
 "nbformat": 4,
 "nbformat_minor": 2
}
